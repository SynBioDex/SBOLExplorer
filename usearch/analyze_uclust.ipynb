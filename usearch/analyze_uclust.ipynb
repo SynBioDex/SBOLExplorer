{
 "cells": [
  {
   "cell_type": "code",
   "execution_count": 1,
   "metadata": {},
   "outputs": [],
   "source": [
    "#./usearch10.0.240_i86linux32 -cluster_fast ../ingest/synbiohub.fsa -id 0.9 -sort length -uc uclust_results.uc"
   ]
  },
  {
   "cell_type": "code",
   "execution_count": 19,
   "metadata": {},
   "outputs": [],
   "source": [
    "def write_uclust(sequence_identity):\n",
    "    f = open('uclust_results.uc', 'r')\n",
    "    results = f.read()\n",
    "\n",
    "    lines = results.splitlines()\n",
    "    cluster_file = open('clusters_' + sequence_identity + '.txt', 'w')\n",
    "\n",
    "    for line in lines:\n",
    "        line = line.split()\n",
    "        \n",
    "        if line[0] is 'H' or line[0] is 'S':\n",
    "            part, cluster = line[8], line[1]\n",
    "            cluster_file.write(part + ' ' + cluster + '\\n')\n",
    "\n",
    "    cluster_file.close()\n",
    "    \n",
    "\n",
    "def analyze_uclust():\n",
    "    f = open('uclust_results.uc', 'r')\n",
    "    results = f.read()\n",
    "    \n",
    "    total_parts = 0\n",
    "    total_identity = 0.0\n",
    "    hits = 0\n",
    "\n",
    "    lines = results.splitlines()\n",
    "    for line in lines:\n",
    "        line = line.split()\n",
    "        record_type = line[0]\n",
    "        \n",
    "        if record_type in ('H', 'S'):\n",
    "            total_parts += 1\n",
    "\n",
    "            if line[0] is 'H':\n",
    "                total_identity += float(line[3])\n",
    "                hits += 1\n",
    "    \n",
    "    print('parts: ' + str(total_parts))\n",
    "    print('hits: ' + str(hits))\n",
    "    print('average hit identity: ' + str(total_identity / hits))"
   ]
  },
  {
   "cell_type": "code",
   "execution_count": 20,
   "metadata": {},
   "outputs": [
    {
     "name": "stdout",
     "output_type": "stream",
     "text": [
      "parts: 48548\n",
      "hits: 4142\n",
      "average hit identity: 99.96856591018833\n"
     ]
    }
   ],
   "source": [
    "write_uclust('pX')\n",
    "analyze_uclust()"
   ]
  },
  {
   "cell_type": "code",
   "execution_count": 2,
   "metadata": {},
   "outputs": [],
   "source": [
    "# TODO try + analyze using lower identity values\n",
    "# TODO implement uclust distance metric in blast single link clustering"
   ]
  },
  {
   "cell_type": "code",
   "execution_count": null,
   "metadata": {},
   "outputs": [],
   "source": []
  }
 ],
 "metadata": {
  "kernelspec": {
   "display_name": "Python 3",
   "language": "python",
   "name": "python3"
  },
  "language_info": {
   "codemirror_mode": {
    "name": "ipython",
    "version": 3
   },
   "file_extension": ".py",
   "mimetype": "text/x-python",
   "name": "python",
   "nbconvert_exporter": "python",
   "pygments_lexer": "ipython3",
   "version": "3.4.3"
  }
 },
 "nbformat": 4,
 "nbformat_minor": 2
}
