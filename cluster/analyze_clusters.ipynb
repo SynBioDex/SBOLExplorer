{
 "cells": [
  {
   "cell_type": "code",
   "execution_count": 1,
   "metadata": {},
   "outputs": [],
   "source": [
    "import matplotlib.pyplot as plt\n",
    "\n",
    "def parse_clusters(s):\n",
    "    lines = s.splitlines()\n",
    "    clusters = {}\n",
    "    \n",
    "    for line in lines:\n",
    "        part, cluster = list(line.split())\n",
    "        if cluster not in clusters:\n",
    "            clusters[cluster] = set()\n",
    "        clusters[cluster].add(part)\n",
    "    \n",
    "    return clusters\n",
    "\n",
    "\n",
    "def plot_cluster_histogram(clusters, outliers=0):\n",
    "    print('# of clusters: ' + str(len(clusters)))\n",
    "    \n",
    "    sizes = []\n",
    "    \n",
    "    for cluster in clusters:\n",
    "        sizes.append(len(clusters[cluster]))\n",
    "    \n",
    "    total = 0\n",
    "    for i in sizes:\n",
    "        total += i\n",
    "    print('total parts: ' + str(total))\n",
    "    \n",
    "    sizes.sort()\n",
    "    plt.hist(sizes[0:len(sizes) - outliers], 500)\n",
    "    plt.yscale('log', nonposy='clip')\n",
    "\n",
    "\n",
    "def print_cluster_sizes(clusters, size_threshold):\n",
    "    for cluster in clusters:\n",
    "        size = len(clusters[cluster])\n",
    "        if size >= size_threshold:\n",
    "            print(cluster + ': ' + str(size))\n",
    "    \n",
    "    \n",
    "def print_cluster(cluster):\n",
    "    fsa = open('../blast/db/synbiohubdb/synbiohub.fsa', 'r').read()\n",
    "    \n",
    "    parts = {}\n",
    "    \n",
    "    lines = fsa.splitlines()\n",
    "    uri_line = True\n",
    "    for line in lines:\n",
    "        if uri_line:\n",
    "            uri = line[1:len(line)]\n",
    "        else:\n",
    "            seq = line\n",
    "            parts[uri] = seq\n",
    "            \n",
    "        uri_line = not uri_line\n",
    "    \n",
    "    for uri in cluster:\n",
    "        print(uri)\n",
    "        print(parts[uri])"
   ]
  },
  {
   "cell_type": "code",
   "execution_count": 2,
   "metadata": {},
   "outputs": [
    {
     "name": "stdout",
     "output_type": "stream",
     "text": [
      "# of clusters: 11056\n",
      "total parts: 48548\n"
     ]
    },
    {
     "data": {
      "image/png": "[encoded data removed]",
      "text/plain": [
       "<Figure size 432x288 with 1 Axes>"
      ]
     },
     "metadata": {},
     "output_type": "display_data"
    }
   ],
   "source": [
    "f = open('jaccard_clusters/clusters_p1.txt', 'r')\n",
    "clusters = parse_clusters(f.read())\n",
    "plot_cluster_histogram(clusters, 2)"
   ]
  },
  {
   "cell_type": "code",
   "execution_count": 3,
   "metadata": {},
   "outputs": [
    {
     "name": "stdout",
     "output_type": "stream",
     "text": [
      "# of clusters: 12581\n",
      "total parts: 48548\n"
     ]
    },
    {
     "data": {
      "image/png": "[encoded data removed]",
      "text/plain": [
       "<Figure size 432x288 with 1 Axes>"
      ]
     },
     "metadata": {},
     "output_type": "display_data"
    }
   ],
   "source": [
    "f = open('jaccard_clusters/clusters_p05.txt', 'r')\n",
    "clusters = parse_clusters(f.read())\n",
    "plot_cluster_histogram(clusters, 2)"
   ]
  },
  {
   "cell_type": "code",
   "execution_count": 4,
   "metadata": {},
   "outputs": [
    {
     "name": "stdout",
     "output_type": "stream",
     "text": [
      "# of clusters: 13831\n",
      "total parts: 48548\n"
     ]
    },
    {
     "data": {
      "image/png": "[encoded data removed]",
      "text/plain": [
       "<Figure size 432x288 with 1 Axes>"
      ]
     },
     "metadata": {},
     "output_type": "display_data"
    }
   ],
   "source": [
    "f = open('jaccard_clusters/clusters_p025.txt', 'r')\n",
    "clusters = parse_clusters(f.read())\n",
    "plot_cluster_histogram(clusters, 1)"
   ]
  },
  {
   "cell_type": "code",
   "execution_count": 5,
   "metadata": {},
   "outputs": [
    {
     "name": "stdout",
     "output_type": "stream",
     "text": [
      "# of clusters: 15380\n",
      "total parts: 48548\n"
     ]
    },
    {
     "data": {
      "image/png": "[encoded data removed]",
      "text/plain": [
       "<Figure size 432x288 with 1 Axes>"
      ]
     },
     "metadata": {},
     "output_type": "display_data"
    }
   ],
   "source": [
    "f = open('jaccard_clusters/clusters_p0125.txt', 'r')\n",
    "clusters = parse_clusters(f.read())\n",
    "plot_cluster_histogram(clusters, 1)"
   ]
  },
  {
   "cell_type": "code",
   "execution_count": 6,
   "metadata": {},
   "outputs": [
    {
     "name": "stdout",
     "output_type": "stream",
     "text": [
      "# of clusters: 15380\n",
      "total parts: 48548\n"
     ]
    },
    {
     "data": {
      "image/png": "[encoded data removed]",
      "text/plain": [
       "<Figure size 432x288 with 1 Axes>"
      ]
     },
     "metadata": {},
     "output_type": "display_data"
    }
   ],
   "source": [
    "f = open('jaccard_clusters/clusters_p00625.txt', 'r')\n",
    "clusters = parse_clusters(f.read())\n",
    "plot_cluster_histogram(clusters, 6)"
   ]
  },
  {
   "cell_type": "code",
   "execution_count": 7,
   "metadata": {},
   "outputs": [
    {
     "name": "stdout",
     "output_type": "stream",
     "text": [
      "# of clusters: 14807\n",
      "total parts: 48548\n",
      "30346: 32159\n",
      "42878: 22\n",
      "30571: 17\n"
     ]
    },
    {
     "data": {
      "image/png": "[encoded data removed]",
      "text/plain": [
       "<Figure size 432x288 with 1 Axes>"
      ]
     },
     "metadata": {},
     "output_type": "display_data"
    }
   ],
   "source": [
    "f = open('blast_clusters/clusters_p00001.txt', 'r')\n",
    "clusters = parse_clusters(f.read())\n",
    "plot_cluster_histogram(clusters, 1)\n",
    "print_cluster_sizes(clusters, 15)\n",
    "#print_cluster(clusters['30571'])"
   ]
  },
  {
   "cell_type": "code",
   "execution_count": 13,
   "metadata": {},
   "outputs": [
    {
     "name": "stdout",
     "output_type": "stream",
     "text": [
      "# of clusters: 14807\n",
      "total parts: 48548\n",
      "30346: 32159\n",
      "42878: 22\n",
      "30571: 17\n"
     ]
    },
    {
     "data": {
      "image/png": "[encoded data removed]",
      "text/plain": [
       "<Figure size 432x288 with 1 Axes>"
      ]
     },
     "metadata": {},
     "output_type": "display_data"
    }
   ],
   "source": [
    "f = open('blast_clusters/clusters_p00001.txt', 'r')\n",
    "clusters = parse_clusters(f.read())\n",
    "plot_cluster_histogram(clusters, 0)\n",
    "print_cluster_sizes(clusters, 15)\n"
   ]
  },
  {
   "cell_type": "code",
   "execution_count": 8,
   "metadata": {},
   "outputs": [
    {
     "name": "stdout",
     "output_type": "stream",
     "text": [
      "# of clusters: 43397\n",
      "total parts: 48548\n",
      "42483: 5152\n"
     ]
    },
    {
     "data": {
      "image/png": "[encoded data removed]",
      "text/plain": [
       "<Figure size 432x288 with 1 Axes>"
      ]
     },
     "metadata": {},
     "output_type": "display_data"
    }
   ],
   "source": [
    "f = open('blast_clusters/clusters_5000.txt', 'r')\n",
    "clusters = parse_clusters(f.read())\n",
    "plot_cluster_histogram(clusters, 0)\n",
    "print_cluster_sizes(clusters, 2)"
   ]
  },
  {
   "cell_type": "code",
   "execution_count": 9,
   "metadata": {},
   "outputs": [
    {
     "name": "stdout",
     "output_type": "stream",
     "text": [
      "# of clusters: 34606\n",
      "total parts: 48548\n",
      "36414: 13943\n"
     ]
    },
    {
     "data": {
      "image/png": "[encoded data removed]",
      "text/plain": [
       "<Figure size 432x288 with 1 Axes>"
      ]
     },
     "metadata": {},
     "output_type": "display_data"
    }
   ],
   "source": [
    "f = open('blast_clusters/clusters_2500.txt', 'r')\n",
    "clusters = parse_clusters(f.read())\n",
    "plot_cluster_histogram(clusters, 0)\n",
    "print_cluster_sizes(clusters, 2)\n",
    "#print_cluster(clusters['42483'])"
   ]
  },
  {
   "cell_type": "code",
   "execution_count": 10,
   "metadata": {},
   "outputs": [
    {
     "name": "stdout",
     "output_type": "stream",
     "text": [
      "# of clusters: 19573\n",
      "total parts: 48548\n",
      "36414: 28976\n"
     ]
    },
    {
     "data": {
      "image/png": "[encoded data removed]",
      "text/plain": [
       "<Figure size 432x288 with 1 Axes>"
      ]
     },
     "metadata": {},
     "output_type": "display_data"
    }
   ],
   "source": [
    "f = open('blast_clusters/clusters_1000.txt', 'r')\n",
    "clusters = parse_clusters(f.read())\n",
    "plot_cluster_histogram(clusters, 0)\n",
    "print_cluster_sizes(clusters, 2)"
   ]
  },
  {
   "cell_type": "code",
   "execution_count": 11,
   "metadata": {},
   "outputs": [
    {
     "name": "stdout",
     "output_type": "stream",
     "text": [
      "# of clusters: 15809\n",
      "total parts: 48548\n",
      "36414: 32740\n"
     ]
    },
    {
     "data": {
      "image/png": "[encoded data removed]",
      "text/plain": [
       "<Figure size 432x288 with 1 Axes>"
      ]
     },
     "metadata": {},
     "output_type": "display_data"
    }
   ],
   "source": [
    "f = open('blast_clusters/clusters_500.txt', 'r')\n",
    "clusters = parse_clusters(f.read())\n",
    "plot_cluster_histogram(clusters, 0)\n",
    "print_cluster_sizes(clusters, 2)"
   ]
  },
  {
   "cell_type": "code",
   "execution_count": 12,
   "metadata": {},
   "outputs": [
    {
     "name": "stdout",
     "output_type": "stream",
     "text": [
      "4183: 10\n",
      "11339: 10\n",
      "16641: 12\n",
      "19624: 13\n",
      "19822: 12\n",
      "20013: 11\n",
      "21447: 12\n",
      "21515: 11\n",
      "21962: 11\n",
      "22031: 15\n",
      "22781: 12\n",
      "23178: 14\n",
      "24486: 13\n",
      "24578: 10\n",
      "24875: 11\n",
      "25152: 50\n",
      "33517: 15\n",
      "34202: 11\n",
      "36115: 21\n",
      "36440: 10\n",
      "38187: 12\n",
      "39465: 13\n",
      "41382: 16\n",
      "42000: 10\n",
      "42004: 15\n",
      "43984: 10\n",
      "44278: 12\n",
      "44404: 24\n",
      "https://synbiohub.org/public/bsu/BO_2866/1\n",
      "TTTCGCTAAAATAAAATCATGAAACATGTTAAGATGACATAAAAT\n",
      "https://synbiohub.org/public/bsu/BO_2868/1\n",
      "ATTATCCTAATAAAAAGAGAGAAAGGCTTGCTTAATACAGCCTTTCTCTT\n",
      "https://synbiohub.org/public/bsu/BO_3132/1\n",
      "AAAATAAAATCATGAAACATGTTAAGATGACATAAAATAGAGAAATAGGA\n",
      "https://synbiohub.org/public/bsu/BO_3925/1\n",
      "TGTCATGAAAGTATTATCCTAATAAAAAG\n",
      "https://synbiohub.org/public/bsu/BO_3927/1\n",
      "ATAAAATCATGAAACATGTTAAGATGACATAAAATAGAGA\n",
      "https://synbiohub.org/public/bsu/BO_5571/1\n",
      "AGAAAGGCTTGCTTAATACAGCCTTTCTCTTTTTACTA\n",
      "https://synbiohub.org/public/bsu/BO_27684/1\n",
      "TGTCATGAAAGTATTATCCTAATAAAAAGAGAGAAAGGCTTGCTTAATACAGCCTTTCTCTTTTTACTATAAATGAAAGCGCTATCATAAACGTCTTTATTTCTTTTAAAAATGATGTAAAAGGCGAATTGTCGGAATGTCCTGCTTTCGCTAAAATAAAATCATGAAACATGTTAAGATGACATAAAATAGAGA\n",
      "https://synbiohub.org/public/bsu/BO_3581/1\n",
      "TTTACTATAAATGAAAGCGCTATCATAAAC\n",
      "https://synbiohub.org/public/bsu/BO_2867/1\n",
      "GTCTTTATTTCTTTTAAAAATGATGTAAAAGGCGAATTGTCGGAATGTCCTG\n",
      "https://synbiohub.org/public/bsu/BO_3926/1\n",
      "ATCATAAACGTCTTTATTTCTTTTAAAAATGATGTAAAAGGCGAATTGTCGGAA\n",
      "https://synbiohub.org/public/bsu/BO_2865/1\n",
      "CGAATTGTCGGAATGTCCTGCTTTCGCTAAAATAAAATCATGAA\n",
      "# of clusters: 44406\n",
      "total parts: 48548\n"
     ]
    },
    {
     "data": {
      "image/png": "[encoded data removed]",
      "text/plain": [
       "<Figure size 432x288 with 1 Axes>"
      ]
     },
     "metadata": {},
     "output_type": "display_data"
    }
   ],
   "source": [
    "f = open('usearch_clusters/clusters_pX.txt', 'r')\n",
    "clusters = parse_clusters(f.read())\n",
    "print_cluster_sizes(clusters, 10)\n",
    "print_cluster(clusters['34202'])\n",
    "plot_cluster_histogram(clusters, 0)"
   ]
  },
  {
   "cell_type": "code",
   "execution_count": null,
   "metadata": {},
   "outputs": [],
   "source": []
  }
 ],
 "metadata": {
  "kernelspec": {
   "display_name": "Python 3",
   "language": "python",
   "name": "python3"
  },
  "language_info": {
   "codemirror_mode": {
    "name": "ipython",
    "version": 3
   },
   "file_extension": ".py",
   "mimetype": "text/x-python",
   "name": "python",
   "nbconvert_exporter": "python",
   "pygments_lexer": "ipython3",
   "version": "3.6.5"
  }
 },
 "nbformat": 4,
 "nbformat_minor": 2
}
