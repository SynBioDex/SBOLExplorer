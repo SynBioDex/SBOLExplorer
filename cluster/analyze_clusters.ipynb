{
 "cells": [
  {
   "cell_type": "code",
   "execution_count": 37,
   "metadata": {},
   "outputs": [],
   "source": [
    "import matplotlib.pyplot as plt\n",
    "\n",
    "def parse_clusters(s):\n",
    "    lines = s.splitlines()\n",
    "    clusters = {}\n",
    "    \n",
    "    for line in lines:\n",
    "        part, cluster = list(line.split())\n",
    "        if cluster not in clusters:\n",
    "            clusters[cluster] = set()\n",
    "        clusters[cluster].add(part)\n",
    "    \n",
    "    return clusters\n",
    "\n",
    "\n",
    "def plot_cluster_histogram(clusters, outliers=0):\n",
    "    print('# of clusters: ' + str(len(clusters)))\n",
    "    \n",
    "    sizes = []\n",
    "    \n",
    "    for cluster in clusters:\n",
    "        sizes.append(len(clusters[cluster]))\n",
    "    \n",
    "    total = 0\n",
    "    for i in sizes:\n",
    "        total += i\n",
    "    print('total parts: ' + str(total))\n",
    "    \n",
    "    sizes.sort()\n",
    "    plt.hist(sizes[0:len(sizes) - outliers], 500)\n",
    "    plt.yscale('log', nonposy='clip')\n",
    "\n",
    "\n",
    "def print_cluster_sizes(clusters, size_threshold):\n",
    "    for cluster in clusters:\n",
    "        size = len(clusters[cluster])\n",
    "        if size >= size_threshold:\n",
    "            print(cluster + ': ' + str(size))\n",
    "    \n",
    "    \n",
    "def print_cluster(cluster):\n",
    "    fsa = open('../blast/db/synbiohubdb/synbiohub.fsa', 'r').read()\n",
    "    \n",
    "    parts = {}\n",
    "    \n",
    "    lines = fsa.splitlines()\n",
    "    uri_line = True\n",
    "    for line in lines:\n",
    "        if uri_line:\n",
    "            uri = line[1:len(line)]\n",
    "        else:\n",
    "            seq = line\n",
    "            parts[uri] = seq\n",
    "            \n",
    "        uri_line = not uri_line\n",
    "    \n",
    "    for uri in cluster:\n",
    "        print(uri)\n",
    "        print(parts[uri])"
   ]
  },
  {
   "cell_type": "code",
   "execution_count": 38,
   "metadata": {},
   "outputs": [
    {
     "name": "stdout",
     "output_type": "stream",
     "text": [
      "# of clusters: 11056\n",
      "total parts: 48548\n"
     ]
    },
    {
     "data": {
      "image/png": "[encoded data removed]",
      "text/plain": [
       "<matplotlib.figure.Figure at 0x7fd5173520b8>"
      ]
     },
     "metadata": {},
     "output_type": "display_data"
    }
   ],
   "source": [
    "f = open('jaccard_clusters/clusters_p1.txt', 'r')\n",
    "clusters = parse_clusters(f.read())\n",
    "plot_cluster_histogram(clusters, 2)"
   ]
  },
  {
   "cell_type": "code",
   "execution_count": 39,
   "metadata": {},
   "outputs": [
    {
     "name": "stdout",
     "output_type": "stream",
     "text": [
      "# of clusters: 12581\n",
      "total parts: 48548\n"
     ]
    },
    {
     "data": {
      "image/png": "[encoded data removed]",
      "text/plain": [
       "<matplotlib.figure.Figure at 0x7fd5176d0b38>"
      ]
     },
     "metadata": {},
     "output_type": "display_data"
    }
   ],
   "source": [
    "f = open('jaccard_clusters/clusters_p05.txt', 'r')\n",
    "clusters = parse_clusters(f.read())\n",
    "plot_cluster_histogram(clusters, 2)"
   ]
  },
  {
   "cell_type": "code",
   "execution_count": 40,
   "metadata": {},
   "outputs": [
    {
     "name": "stdout",
     "output_type": "stream",
     "text": [
      "# of clusters: 13831\n",
      "total parts: 48548\n"
     ]
    },
    {
     "data": {
      "image/png": "[encoded data removed]",
      "text/plain": [
       "<matplotlib.figure.Figure at 0x7fd5458deeb8>"
      ]
     },
     "metadata": {},
     "output_type": "display_data"
    }
   ],
   "source": [
    "f = open('jaccard_clusters/clusters_p025.txt', 'r')\n",
    "clusters = parse_clusters(f.read())\n",
    "plot_cluster_histogram(clusters, 1)"
   ]
  },
  {
   "cell_type": "code",
   "execution_count": 41,
   "metadata": {},
   "outputs": [
    {
     "name": "stdout",
     "output_type": "stream",
     "text": [
      "# of clusters: 15380\n",
      "total parts: 48548\n"
     ]
    },
    {
     "data": {
      "image/png": "[encoded data removed]",
      "text/plain": [
       "<matplotlib.figure.Figure at 0x7fd513f41550>"
      ]
     },
     "metadata": {},
     "output_type": "display_data"
    }
   ],
   "source": [
    "f = open('jaccard_clusters/clusters_p0125.txt', 'r')\n",
    "clusters = parse_clusters(f.read())\n",
    "plot_cluster_histogram(clusters, 1)"
   ]
  },
  {
   "cell_type": "code",
   "execution_count": 42,
   "metadata": {},
   "outputs": [
    {
     "name": "stdout",
     "output_type": "stream",
     "text": [
      "# of clusters: 15380\n",
      "total parts: 48548\n"
     ]
    },
    {
     "data": {
      "image/png": "[encoded data removed]",
      "text/plain": [
       "<matplotlib.figure.Figure at 0x7fd516a63320>"
      ]
     },
     "metadata": {},
     "output_type": "display_data"
    }
   ],
   "source": [
    "f = open('jaccard_clusters/clusters_p00625.txt', 'r')\n",
    "clusters = parse_clusters(f.read())\n",
    "plot_cluster_histogram(clusters, 1)"
   ]
  },
  {
   "cell_type": "code",
   "execution_count": 50,
   "metadata": {},
   "outputs": [
    {
     "name": "stdout",
     "output_type": "stream",
     "text": [
      "# of clusters: 14807\n",
      "total parts: 48548\n",
      "42878: 22\n",
      "36497: 13\n",
      "6556: 12\n",
      "18235: 10\n",
      "30859: 10\n",
      "37851: 10\n",
      "30346: 32159\n",
      "36991: 10\n",
      "36509: 12\n",
      "44498: 11\n",
      "12257: 10\n",
      "30571: 17\n",
      "1524: 12\n",
      "6442: 10\n",
      "https://synbiohub.org/public/igem/BBa_K1743012/1\n",
      "atgtccaaaaaattcctgacgattctggctggtctgctgctggttgtgtcttccttcttcctgtccgtttcaccggcggctgctgctaacgcaacggtgaaaatgggcagcgattctggtgctctggtctttgaaccgtcaaccgtgacgattaaagcgggcgaagaagtgaaatgggttaacaatatactgtcgccgcataatatcgtttttgccgcggatggtgacgatgccgacaccgcagctaaactgtctcacaaaggcctggcgtttgcggcgggtgaaagttttaccagcaccttcaccgaaccgggcacctatacctactactgtgaaccgcatcgtggtgctggtatggtcggcaaagtggtggtggaataa\n",
      "https://synbiohub.org/public/igem/BBa_K1743011/1\n",
      "atgtccaaaaaattcctgacgattctggctggtctgctgctggttgtgtcttccttcttcctgtccgtttcaccggcggctgctgctaacgcaacggtgaaaatgggcagcgattctggtgctctggtctttgtaccgtcaaccgtgacgattaaagcgggcgaagaagtgaaatgggttaacaataaactgtcgccgcataatatcgtttttgccgcggatggtgtcgatgccgacaccgcagctaaactgtctcacaaaggcctggcgtttgcggcgggtgaaagttttaccagcaccttcaccgaaccgggcacctatacctactactgtgaaccgcatcgtggtgctggtatggtcggcaaagtggtggtggaataa\n",
      "https://synbiohub.org/public/igem/BBa_K1743001/1\n",
      "atgtccaaaaaattcctgacgattctggctggtctgctgctggttgtgtcttccttcttcctgtccgtttcaccggcggctgctgctaacgcaacggtgaaaatgggcagcgattctggtgctctggtctttgaaccgtcaaccgtgacgattaaagcgggcgaagaagtgaaatgggttaacaatatactgtcgccgcataatatcgtttttgccgcggatggtgacgatgccgacaccgcagctaaactgtctcacaaaggcctggcgtttgcggcgggtgaaagttttaccagcaccttcaccgaaccgggcacctatacctactactgtgaaccgcatcgtggtgctggtatggtcggcaaagtggtggtggaataa\n",
      "https://synbiohub.org/public/igem/BBa_K1743006/1\n",
      "atgtccaaaaaattcctgacgattctggctggtctgctgctggttgtgtcttccttcttcctgtccgtttcaccggcggctgctgctaacgcaacggtgaaaatgggcagcgattctggtgctctggtctttgaaccgtcaaccgtgacgattaaagcgggcgaagaagtgaaatgggttaacaataaactgtcgccgcataatatcgtttttgccgcggatggtgtcgatgccgacaccgcagctaatctgtctcacaaaggcctggcgtttgcggcgggtgaaagttttaccagcaccttcaccgaaccgggcacctatacctactactgtgaaccgcatcgtggtgctggtatggtcggcaaagtggtggtggaataa\n",
      "https://synbiohub.org/public/igem/BBa_K1743005/1\n",
      "atgtccaaaaaattcctgacgatactggctggtctgctgctggttgtgtcttccttcttcctgtccgtttcaccggcggctgctgctaacgcaacggtgaaaatgggcagcgattctggtgctctggtctttgaaccgtcaaccgtgacgattaaagcgggcgaagaagtgaaatgggttaacaataaactgtcgccgcataatatcgtttttgccgcggatggtgtcgatgccgacaccgcagctaaactgtctcacaaaggcctggcgtttgcggcgggtgaaagttttaccagcaccttcaccgaaccgggcacctatacctactactgtgaaccgcatcgtggtgctggtatggtcggcaaagtggtggtggaataa\n",
      "https://synbiohub.org/public/igem/BBa_K1743015/1\n",
      "atgtccaaaaaattcctgacgattctggctggtctgctgctggttgtgtcttccttcttcctgtccgtttcaccggcggctgctgctaacgcaacggtgaaaatgggcagcgattctggtgctctggtctttgaaccgtcaaccgtgacgattaaagcgggcgaagaagtgaaatgggttaacaataaactgtcgccgcataatatcgtttttgccgcggatggtgtcgatgccgacaccgcagctaatctgtctcacaaaggcctggcgtttgcggcgggtgaaagttttaccagcaccttcaccgaaccgggcacctatacctactactgtgaaccgcatcgtggtgctggtatggtcggcaaagtggtggtggaataa\n",
      "https://synbiohub.org/public/igem/BBa_K1743002/1\n",
      "atgtccaaaaaattcctgacgattctggctggtctgctgctggttgtgtcttccttcttcctgtccgtttcaccggcggctgctgctaacgcaacggtgaaaatgggcagcgattctggtgctctggtctttgaaccgtcaaccgtgacgattaaagcgggcgaagaagtgaaatgggttaacaataaactgtcgccgcataatatcgtttttgccgcggatggtgtcgatgccgacaccgcagctaaactgtctcacaaaggcctggcgtttgcggcgggtgaaagttttaccagcaccttcaccgaaccgggcacctatacctactactgtgaaccgcatcgtggtgctggtatggtcggcaaagtggtggtggaataa\n",
      "https://synbiohub.org/public/igem/BBa_K1743014/1\n",
      "atgtccaaaaaattcctgacgatactggctggtctgctgctggttgtgtcttccttcttcctgtccgtttcaccggcggctgctgctaacgcaacggtgaaaatgggcagcgattctggtgctctggtctttgaaccgtcaaccgtgacgattaaagcgggcgaagaagtgaaatgggttaacaataaactgtcgccgcataatatcgtttttgccgcggatggtgtcgatgccgacaccgcagctaaactgtctcacaaaggcctggcgtttgcggcgggtgaaagttttaccagcaccttcaccgaaccgggcacctatacctactactgtgaaccgcatcgtggtgctggtatggtcggcaaagtggtggtggaataa\n",
      "https://synbiohub.org/public/igem/BBa_K1743004/1\n",
      "atgtccaaaaaattcctgacgattctggctggtctgctgctggttgtgtcttccttcttcctgtccgtttcaccggcggctgctgctaacgcaacggtgaaaatgggcagcgattctggtgctctggtctttgtaccgtcaaccgtgacgattaaagcgggcgaagaagtgaaatgggttaacaataaactgtcgccgcataatatcgtttttgccgcggatggtgtcgatgccgacaccgcagctaaactgtctcacaaaggcctggcgtttgcggcgggtgaaagttttaccagcaccttcaccgaaccgggcacctatacctactactgtgaaccgcatcgtggtgctggtatggtcggcaaagtggtggtggaataa\n",
      "https://synbiohub.org/public/igem/BBa_K1743013/1\n",
      "atgtccaaaaaattcctgacgattctggctggtctgctgctggttgtgtcttccttcttcctgtccgtttcaccggcggctgctgctaacgcaacggtgaaaatgggcagcgattctggtgctctggtctttgaaccgtcaaccgtgacgattaaagcgggcgaagaagtgaaatgggttaacaataaactgtcgccgcataatatcgtttttgccgcggatggtgtcgatgccgacaccgcagctaaactgtctcacaaaggcctggcgtttgcggcgggtgaaagttttaccagcaccttcaccgaaccgggcacctatacctactactgtgaaccgcatcgtggtgctggtatggtcggcaaagtggtggtggaataa\n"
     ]
    },
    {
     "data": {
      "image/png": "[encoded data removed]",
      "text/plain": [
       "<matplotlib.figure.Figure at 0x7fd51697a5f8>"
      ]
     },
     "metadata": {},
     "output_type": "display_data"
    }
   ],
   "source": [
    "f = open('blast_clusters/clusters_p00001.txt', 'r')\n",
    "clusters = parse_clusters(f.read())\n",
    "plot_cluster_histogram(clusters, 10)\n",
    "print_cluster_sizes(clusters, 10)\n",
    "print_cluster(clusters['6442'])"
   ]
  },
  {
   "cell_type": "code",
   "execution_count": null,
   "metadata": {},
   "outputs": [],
   "source": []
  },
  {
   "cell_type": "code",
   "execution_count": null,
   "metadata": {},
   "outputs": [],
   "source": []
  }
 ],
 "metadata": {
  "kernelspec": {
   "display_name": "Python 3",
   "language": "python",
   "name": "python3"
  },
  "language_info": {
   "codemirror_mode": {
    "name": "ipython",
    "version": 3
   },
   "file_extension": ".py",
   "mimetype": "text/x-python",
   "name": "python",
   "nbconvert_exporter": "python",
   "pygments_lexer": "ipython3",
   "version": "3.4.3"
  }
 },
 "nbformat": 4,
 "nbformat_minor": 2
}
