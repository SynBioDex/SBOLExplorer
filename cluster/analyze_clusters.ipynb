{
 "cells": [
  {
   "cell_type": "code",
   "execution_count": 2,
   "metadata": {},
   "outputs": [],
   "source": [
    "import matplotlib.pyplot as plt\n",
    "\n",
    "def parse_clusters(s):\n",
    "    lines = s.splitlines()\n",
    "    clusters = {}\n",
    "    \n",
    "    for line in lines:\n",
    "        part, cluster = list(line.split())\n",
    "        if cluster not in clusters:\n",
    "            clusters[cluster] = set()\n",
    "        clusters[cluster].add(part)\n",
    "    \n",
    "    return clusters\n",
    "\n",
    "\n",
    "def plot_cluster_histogram(clusters, outliers=0):\n",
    "    print('# of clusters: ' + str(len(clusters)))\n",
    "    \n",
    "    sizes = []\n",
    "    \n",
    "    for cluster in clusters:\n",
    "        sizes.append(len(clusters[cluster]))\n",
    "    \n",
    "    total = 0\n",
    "    for i in sizes:\n",
    "        total += i\n",
    "    print('total parts: ' + str(total))\n",
    "    \n",
    "    sizes.sort()\n",
    "    plt.hist(sizes[0:len(sizes) - outliers], 500)\n",
    "    plt.yscale('log', nonposy='clip')\n",
    "\n",
    "\n",
    "def print_cluster_sizes(clusters, size_threshold):\n",
    "    for cluster in clusters:\n",
    "        size = len(clusters[cluster])\n",
    "        if size >= size_threshold:\n",
    "            print(cluster + ': ' + str(size))\n",
    "    \n",
    "    \n",
    "def print_cluster(cluster):\n",
    "    fsa = open('../blast/db/synbiohubdb/synbiohub.fsa', 'r').read()\n",
    "    \n",
    "    parts = {}\n",
    "    \n",
    "    lines = fsa.splitlines()\n",
    "    uri_line = True\n",
    "    for line in lines:\n",
    "        if uri_line:\n",
    "            uri = line[1:len(line)]\n",
    "        else:\n",
    "            seq = line\n",
    "            parts[uri] = seq\n",
    "            \n",
    "        uri_line = not uri_line\n",
    "    \n",
    "    for uri in cluster:\n",
    "        print(uri)\n",
    "        print(parts[uri])"
   ]
  },
  {
   "cell_type": "code",
   "execution_count": 28,
   "metadata": {},
   "outputs": [
    {
     "name": "stdout",
     "output_type": "stream",
     "text": [
      "# of clusters: 11056\n",
      "total parts: 48548\n"
     ]
    },
    {
     "data": {
      "image/png": "[encoded data removed]",
      "text/plain": [
       "<matplotlib.figure.Figure at 0x7f344d3dbeb8>"
      ]
     },
     "metadata": {},
     "output_type": "display_data"
    }
   ],
   "source": [
    "f = open('jaccard_clusters/clusters_p1.txt', 'r')\n",
    "clusters = parse_clusters(f.read())\n",
    "plot_cluster_histogram(clusters, 2)"
   ]
  },
  {
   "cell_type": "code",
   "execution_count": 29,
   "metadata": {},
   "outputs": [
    {
     "name": "stdout",
     "output_type": "stream",
     "text": [
      "# of clusters: 12581\n",
      "total parts: 48548\n"
     ]
    },
    {
     "data": {
      "image/png": "[encoded data removed]",
      "text/plain": [
       "<matplotlib.figure.Figure at 0x7f344ccee2b0>"
      ]
     },
     "metadata": {},
     "output_type": "display_data"
    }
   ],
   "source": [
    "f = open('jaccard_clusters/clusters_p05.txt', 'r')\n",
    "clusters = parse_clusters(f.read())\n",
    "plot_cluster_histogram(clusters, 2)"
   ]
  },
  {
   "cell_type": "code",
   "execution_count": 30,
   "metadata": {},
   "outputs": [
    {
     "name": "stdout",
     "output_type": "stream",
     "text": [
      "# of clusters: 13831\n",
      "total parts: 48548\n"
     ]
    },
    {
     "data": {
      "image/png": "[encoded data removed]",
      "text/plain": [
       "<matplotlib.figure.Figure at 0x7f34785d6b38>"
      ]
     },
     "metadata": {},
     "output_type": "display_data"
    }
   ],
   "source": [
    "f = open('jaccard_clusters/clusters_p025.txt', 'r')\n",
    "clusters = parse_clusters(f.read())\n",
    "plot_cluster_histogram(clusters, 1)"
   ]
  },
  {
   "cell_type": "code",
   "execution_count": 31,
   "metadata": {},
   "outputs": [
    {
     "name": "stdout",
     "output_type": "stream",
     "text": [
      "# of clusters: 15380\n",
      "total parts: 48548\n"
     ]
    },
    {
     "data": {
      "image/png": "[encoded data removed]",
      "text/plain": [
       "<matplotlib.figure.Figure at 0x7f34746af080>"
      ]
     },
     "metadata": {},
     "output_type": "display_data"
    }
   ],
   "source": [
    "f = open('jaccard_clusters/clusters_p0125.txt', 'r')\n",
    "clusters = parse_clusters(f.read())\n",
    "plot_cluster_histogram(clusters, 1)"
   ]
  },
  {
   "cell_type": "code",
   "execution_count": 32,
   "metadata": {},
   "outputs": [
    {
     "name": "stdout",
     "output_type": "stream",
     "text": [
      "# of clusters: 15380\n",
      "total parts: 48548\n"
     ]
    },
    {
     "data": {
      "image/png": "[encoded data removed]",
      "text/plain": [
       "<matplotlib.figure.Figure at 0x7f344d66c1d0>"
      ]
     },
     "metadata": {},
     "output_type": "display_data"
    }
   ],
   "source": [
    "f = open('jaccard_clusters/clusters_p00625.txt', 'r')\n",
    "clusters = parse_clusters(f.read())\n",
    "plot_cluster_histogram(clusters, 1)"
   ]
  },
  {
   "cell_type": "code",
   "execution_count": 33,
   "metadata": {},
   "outputs": [
    {
     "name": "stdout",
     "output_type": "stream",
     "text": [
      "# of clusters: 14807\n",
      "total parts: 48548\n"
     ]
    },
    {
     "data": {
      "image/png": "[encoded data removed]",
      "text/plain": [
       "<matplotlib.figure.Figure at 0x7f34580e4668>"
      ]
     },
     "metadata": {},
     "output_type": "display_data"
    }
   ],
   "source": [
    "f = open('blast_clusters/clusters_p00001.txt', 'r')\n",
    "clusters = parse_clusters(f.read())\n",
    "plot_cluster_histogram(clusters, 1)\n",
    "#print_cluster_sizes(clusters, 10)\n",
    "#print_cluster(clusters['6442'])"
   ]
  },
  {
   "cell_type": "code",
   "execution_count": 34,
   "metadata": {},
   "outputs": [
    {
     "name": "stdout",
     "output_type": "stream",
     "text": [
      "# of clusters: 43397\n",
      "total parts: 48548\n",
      "42483: 5152\n"
     ]
    },
    {
     "data": {
      "image/png": "[encoded data removed]",
      "text/plain": [
       "<matplotlib.figure.Figure at 0x7f344d405748>"
      ]
     },
     "metadata": {},
     "output_type": "display_data"
    }
   ],
   "source": [
    "f = open('blast_clusters/clusters_5000.txt', 'r')\n",
    "clusters = parse_clusters(f.read())\n",
    "plot_cluster_histogram(clusters, 0)\n",
    "print_cluster_sizes(clusters, 2)\n",
    "#print_cluster(clusters['42483'])"
   ]
  },
  {
   "cell_type": "code",
   "execution_count": 6,
   "metadata": {},
   "outputs": [
    {
     "name": "stdout",
     "output_type": "stream",
     "text": [
      "# of clusters: 34606\n",
      "total parts: 48548\n",
      "36414: 13943\n"
     ]
    },
    {
     "data": {
      "image/png": "[encoded data removed]",
      "text/plain": [
       "<matplotlib.figure.Figure at 0x7f721c682c18>"
      ]
     },
     "metadata": {},
     "output_type": "display_data"
    }
   ],
   "source": [
    "f = open('blast_clusters/clusters_2500.txt', 'r')\n",
    "clusters = parse_clusters(f.read())\n",
    "plot_cluster_histogram(clusters, 0)\n",
    "print_cluster_sizes(clusters, 2)\n",
    "#print_cluster(clusters['42483'])"
   ]
  },
  {
   "cell_type": "code",
   "execution_count": 6,
   "metadata": {},
   "outputs": [
    {
     "name": "stdout",
     "output_type": "stream",
     "text": [
      "# of clusters: 19573\n",
      "total parts: 48548\n",
      "36414: 28976\n"
     ]
    },
    {
     "data": {
      "image/png": "[encoded data removed]",
      "text/plain": [
       "<matplotlib.figure.Figure at 0x7fe713212dd8>"
      ]
     },
     "metadata": {},
     "output_type": "display_data"
    }
   ],
   "source": [
    "f = open('blast_clusters/clusters_1000.txt', 'r')\n",
    "clusters = parse_clusters(f.read())\n",
    "plot_cluster_histogram(clusters, 0)\n",
    "print_cluster_sizes(clusters, 2)"
   ]
  },
  {
   "cell_type": "code",
   "execution_count": null,
   "metadata": {},
   "outputs": [],
   "source": []
  }
 ],
 "metadata": {
  "kernelspec": {
   "display_name": "Python 3",
   "language": "python",
   "name": "python3"
  },
  "language_info": {
   "codemirror_mode": {
    "name": "ipython",
    "version": 3
   },
   "file_extension": ".py",
   "mimetype": "text/x-python",
   "name": "python",
   "nbconvert_exporter": "python",
   "pygments_lexer": "ipython3",
   "version": "3.4.3"
  }
 },
 "nbformat": 4,
 "nbformat_minor": 2
}
