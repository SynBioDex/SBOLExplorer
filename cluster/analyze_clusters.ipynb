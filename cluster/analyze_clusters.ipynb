{
 "cells": [
  {
   "cell_type": "code",
   "execution_count": 6,
   "metadata": {},
   "outputs": [],
   "source": [
    "import matplotlib.pyplot as plt\n",
    "\n",
    "def parse_clusters(s):\n",
    "    lines = s.splitlines()\n",
    "    clusters = {}\n",
    "    \n",
    "    for line in lines:\n",
    "        part, cluster = list(line.split())\n",
    "        if cluster not in clusters:\n",
    "            clusters[cluster] = set()\n",
    "        clusters[cluster].add(part)\n",
    "    \n",
    "    return clusters\n",
    "\n",
    "\n",
    "def print_clusters_stats(clusters, outliers=0):\n",
    "    print('# of clusters: ' + str(len(clusters)))\n",
    "    \n",
    "    sizes = []\n",
    "    \n",
    "    for cluster in clusters:\n",
    "        sizes.append(len(clusters[cluster]))\n",
    "    \n",
    "    total = 0\n",
    "    for i in sizes:\n",
    "        total += i\n",
    "    print('total parts: ' + str(total))\n",
    "    \n",
    "    sizes.sort()\n",
    "    plt.hist(sizes[0:len(sizes) - outliers], 500)\n",
    "    plt.yscale('log', nonposy='clip')\n",
    "    \n",
    "    \n",
    "def print_cluster(cluster):\n",
    "    fsa = open('../blast/db/synbiohubdb/synbiohub.fsa', 'r').read()\n",
    "    \n",
    "    parts = {}\n",
    "    \n",
    "    lines = fsa.splitlines()\n",
    "    uri_line = True\n",
    "    for line in lines:\n",
    "        if uri_line:\n",
    "            uri = line[1:len(line)]\n",
    "        else:\n",
    "            seq = line\n",
    "            parts[uri] = seq\n",
    "            \n",
    "        uri_line = not uri_line\n",
    "    \n",
    "    for uri in cluster:\n",
    "        print(parts[uri])"
   ]
  },
  {
   "cell_type": "code",
   "execution_count": 7,
   "metadata": {},
   "outputs": [
    {
     "name": "stdout",
     "output_type": "stream",
     "text": [
      "# of clusters: 11056\n",
      "total parts: 48548\n"
     ]
    },
    {
     "data": {
      "image/png": "[encoded data removed]",
      "text/plain": [
       "<matplotlib.figure.Figure at 0x7f69af2d5d30>"
      ]
     },
     "metadata": {},
     "output_type": "display_data"
    }
   ],
   "source": [
    "f = open('jaccard_clusters/clusters_p1.txt', 'r')\n",
    "clusters = parse_clusters(f.read())\n",
    "print_clusters_stats(clusters, 2)"
   ]
  },
  {
   "cell_type": "code",
   "execution_count": 8,
   "metadata": {},
   "outputs": [
    {
     "name": "stdout",
     "output_type": "stream",
     "text": [
      "# of clusters: 12581\n",
      "total parts: 48548\n"
     ]
    },
    {
     "data": {
      "image/png": "[encoded data removed]",
      "text/plain": [
       "<matplotlib.figure.Figure at 0x7f69ae84c160>"
      ]
     },
     "metadata": {},
     "output_type": "display_data"
    }
   ],
   "source": [
    "f = open('jaccard_clusters/clusters_p05.txt', 'r')\n",
    "clusters = parse_clusters(f.read())\n",
    "print_clusters_stats(clusters, 2)"
   ]
  },
  {
   "cell_type": "code",
   "execution_count": 9,
   "metadata": {},
   "outputs": [
    {
     "name": "stdout",
     "output_type": "stream",
     "text": [
      "# of clusters: 13831\n",
      "total parts: 48548\n"
     ]
    },
    {
     "data": {
      "image/png": "[encoded data removed]",
      "text/plain": [
       "<matplotlib.figure.Figure at 0x7f69abb66978>"
      ]
     },
     "metadata": {},
     "output_type": "display_data"
    }
   ],
   "source": [
    "f = open('jaccard_clusters/clusters_p025.txt', 'r')\n",
    "clusters = parse_clusters(f.read())\n",
    "print_clusters_stats(clusters, 1)"
   ]
  },
  {
   "cell_type": "code",
   "execution_count": 10,
   "metadata": {},
   "outputs": [
    {
     "name": "stdout",
     "output_type": "stream",
     "text": [
      "# of clusters: 15380\n",
      "total parts: 48548\n"
     ]
    },
    {
     "data": {
      "image/png": "[encoded data removed]",
      "text/plain": [
       "<matplotlib.figure.Figure at 0x7f69af1ea438>"
      ]
     },
     "metadata": {},
     "output_type": "display_data"
    }
   ],
   "source": [
    "f = open('jaccard_clusters/clusters_p0125.txt', 'r')\n",
    "clusters = parse_clusters(f.read())\n",
    "print_clusters_stats(clusters, 1)"
   ]
  },
  {
   "cell_type": "code",
   "execution_count": 11,
   "metadata": {},
   "outputs": [
    {
     "name": "stdout",
     "output_type": "stream",
     "text": [
      "# of clusters: 15380\n",
      "total parts: 48548\n"
     ]
    },
    {
     "data": {
      "image/png": "[encoded data removed]",
      "text/plain": [
       "<matplotlib.figure.Figure at 0x7f69d81330b8>"
      ]
     },
     "metadata": {},
     "output_type": "display_data"
    }
   ],
   "source": [
    "f = open('jaccard_clusters/clusters_p00625.txt', 'r')\n",
    "clusters = parse_clusters(f.read())\n",
    "print_clusters_stats(clusters, 1)"
   ]
  },
  {
   "cell_type": "code",
   "execution_count": 12,
   "metadata": {},
   "outputs": [
    {
     "ename": "KeyError",
     "evalue": "0",
     "output_type": "error",
     "traceback": [
      "\u001b[0;31m---------------------------------------------------------------------------\u001b[0m",
      "\u001b[0;31mKeyError\u001b[0m                                  Traceback (most recent call last)",
      "\u001b[0;32m<ipython-input-12-aeeac4bcd712>\u001b[0m in \u001b[0;36m<module>\u001b[0;34m()\u001b[0m\n\u001b[0;32m----> 1\u001b[0;31m \u001b[0mprint_cluster\u001b[0m\u001b[0;34m(\u001b[0m\u001b[0mclusters\u001b[0m\u001b[0;34m[\u001b[0m\u001b[0;36m0\u001b[0m\u001b[0;34m]\u001b[0m\u001b[0;34m)\u001b[0m\u001b[0;34m\u001b[0m\u001b[0m\n\u001b[0m",
      "\u001b[0;31mKeyError\u001b[0m: 0"
     ]
    }
   ],
   "source": [
    "print_cluster(clusters[0])"
   ]
  },
  {
   "cell_type": "code",
   "execution_count": null,
   "metadata": {},
   "outputs": [],
   "source": []
  },
  {
   "cell_type": "code",
   "execution_count": null,
   "metadata": {},
   "outputs": [],
   "source": []
  }
 ],
 "metadata": {
  "kernelspec": {
   "display_name": "Python 3",
   "language": "python",
   "name": "python3"
  },
  "language_info": {
   "codemirror_mode": {
    "name": "ipython",
    "version": 3
   },
   "file_extension": ".py",
   "mimetype": "text/x-python",
   "name": "python",
   "nbconvert_exporter": "python",
   "pygments_lexer": "ipython3",
   "version": "3.4.3"
  }
 },
 "nbformat": 4,
 "nbformat_minor": 2
}
