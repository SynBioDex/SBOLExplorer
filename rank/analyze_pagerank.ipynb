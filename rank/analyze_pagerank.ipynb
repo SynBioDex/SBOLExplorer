{
 "cells": [
  {
   "cell_type": "code",
   "execution_count": 2,
   "metadata": {},
   "outputs": [],
   "source": [
    "import matplotlib.pyplot as plt\n",
    "import json\n",
    "import pickle\n",
    "\n",
    "uri2rank_filename = 'uri2rank_dump'\n",
    "\n",
    "def deserialize(filename):\n",
    "    f = open(filename, 'rb')\n",
    "    data = pickle.load(f)\n",
    "    f.close()\n",
    "    return data\n",
    "\n",
    "\n",
    "def plot_histogram(ranks):\n",
    "    plt.hist(ranks, bins=10000)\n",
    "    plt.title('Pagerank distribution of iGEM parts')\n",
    "    plt.xlabel('Pagerank value')\n",
    "    plt.ylabel('Number of parts')\n",
    "    plt.yscale('log', nonposy='clip')\n",
    "    plt.xscale('log')"
   ]
  },
  {
   "cell_type": "code",
   "execution_count": 4,
   "metadata": {},
   "outputs": [
    {
     "name": "stdout",
     "output_type": "stream",
     "text": [
      "('https://synbiohub.org/public/igem/igem2sbol/1', 0.6966999630711525)\n",
      "[('https://synbiohub.org/public/igem/BBa_R0011/1', 0.0002486734703313158), ('https://synbiohub.org/public/igem/BBa_R0010/1', 0.0003709392326612267), ('https://synbiohub.org/public/igem/BBa_B0032/1', 0.00037285272469194823), ('https://synbiohub.org/public/igem/BBa_B0030/1', 0.0003802979168272833), ('https://synbiohub.org/public/igem/BBa_E0040/1', 0.0004580074863066108), ('https://synbiohub.org/public/igem/BBa_R0040/1', 0.00047659394938978373), ('https://synbiohub.org/public/igem/BBa_B0015/1', 0.000749152511989998), ('https://synbiohub.org/public/igem/BBa_B0010/1', 0.0014321551049507279), ('https://synbiohub.org/public/igem/BBa_B0012/1', 0.0014841141155577525), ('https://synbiohub.org/public/igem/BBa_B0034/1', 0.002044482861720468)]\n"
     ]
    }
   ],
   "source": [
    "ranks = deserialize(uri2rank_filename)\n",
    "ranks = list(filter(lambda item: 'sequence' not in item[0], ranks.items()))\n",
    "ranks = sorted(ranks, key=lambda kv: kv[1])\n",
    "\n",
    "print(ranks[-1])\n",
    "\n",
    "print(ranks[-11:-1])"
   ]
  },
  {
   "cell_type": "code",
   "execution_count": 7,
   "metadata": {},
   "outputs": [
    {
     "data": {
      "image/png": "[encoded data removed]",
      "text/plain": [
       "<Figure size 432x288 with 1 Axes>"
      ]
     },
     "metadata": {},
     "output_type": "display_data"
    }
   ],
   "source": [
    "plot_histogram(list((map(lambda item: item[1], ranks[0:-1]))))"
   ]
  },
  {
   "cell_type": "code",
   "execution_count": null,
   "metadata": {},
   "outputs": [],
   "source": []
  }
 ],
 "metadata": {
  "kernelspec": {
   "display_name": "Python 3",
   "language": "python",
   "name": "python3"
  },
  "language_info": {
   "codemirror_mode": {
    "name": "ipython",
    "version": 3
   },
   "file_extension": ".py",
   "mimetype": "text/x-python",
   "name": "python",
   "nbconvert_exporter": "python",
   "pygments_lexer": "ipython3",
   "version": "3.5.2"
  }
 },
 "nbformat": 4,
 "nbformat_minor": 2
}
