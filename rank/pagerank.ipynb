{
 "cells": [
  {
   "cell_type": "code",
   "execution_count": 3,
   "metadata": {},
   "outputs": [],
   "source": [
    "# fetch usage data\n",
    "\n",
    "endpoint = 'https://synbiohub.org/sparql?'\n",
    "\n",
    "query = '''\n",
    "PREFIX rdf: <http://www.w3.org/1999/02/22-rdf-syntax-ns#>\n",
    "PREFIX dcterms: <http://purl.org/dc/terms/>\n",
    "PREFIX dc: <http://purl.org/dc/elements/1.1/>\n",
    "PREFIX sbh: <http://wiki.synbiohub.org/wiki/Terms/synbiohub#>\n",
    "PREFIX prov: <http://www.w3.org/ns/prov#>\n",
    "PREFIX sbol: <http://sbols.org/v2#>\n",
    "PREFIX xsd: <http://www.w3.org/2001/XMLSchema#>\n",
    "PREFIX rdfs: <http://www.w3.org/2000/01/rdf-schema#>\n",
    "PREFIX purl: <http://purl.obolibrary.org/obo/>\n",
    "\n",
    "select distinct ?pcd ?ie ?ccd\n",
    "WHERE\n",
    "{\n",
    "?pcd a sbol:ComponentDefinition ;\n",
    "sbol:component ?sc;\n",
    "prov:wasDerivedFrom ?ie .\n",
    "\n",
    "?sc sbol:definition ?ccd\n",
    "}\n",
    "'''"
   ]
  },
  {
   "cell_type": "code",
   "execution_count": 4,
   "metadata": {},
   "outputs": [
    {
     "name": "stdout",
     "output_type": "stream",
     "text": [
      "https://synbiohub.org/sparql?query=%0APREFIX+rdf%3A+%3Chttp%3A%2F%2Fwww.w3.org%2F1999%2F02%2F22-rdf-syntax-ns%23%3E%0APREFIX+dcterms%3A+%3Chttp%3A%2F%2Fpurl.org%2Fdc%2Fterms%2F%3E%0APREFIX+dc%3A+%3Chttp%3A%2F%2Fpurl.org%2Fdc%2Felements%2F1.1%2F%3E%0APREFIX+sbh%3A+%3Chttp%3A%2F%2Fwiki.synbiohub.org%2Fwiki%2FTerms%2Fsynbiohub%23%3E%0APREFIX+prov%3A+%3Chttp%3A%2F%2Fwww.w3.org%2Fns%2Fprov%23%3E%0APREFIX+sbol%3A+%3Chttp%3A%2F%2Fsbols.org%2Fv2%23%3E%0APREFIX+xsd%3A+%3Chttp%3A%2F%2Fwww.w3.org%2F2001%2FXMLSchema%23%3E%0APREFIX+rdfs%3A+%3Chttp%3A%2F%2Fwww.w3.org%2F2000%2F01%2Frdf-schema%23%3E%0APREFIX+purl%3A+%3Chttp%3A%2F%2Fpurl.obolibrary.org%2Fobo%2F%3E%0A%0Aselect+distinct+%3Fpcd+%3Fie+%3Fccd%0AWHERE%0A%7B%0A%3Fpcd+a+sbol%3AComponentDefinition+%3B%0Asbol%3Acomponent+%3Fsc%3B%0Aprov%3AwasDerivedFrom+%3Fie+.%0A%0A%3Fsc+sbol%3Adefinition+%3Fccd%0A%7D%0A\n",
      "200\n",
      "utf-8\n",
      "application/sparql-results+xml; charset=utf-8\n",
      "b'<sparql xmlns=\"http://www.w3.org/2005/sparql-results#\" xmlns:xsi=\"http://www.w3.org/2001/XMLSchema-instance\" xsi:schemaLocation=\"http://www.w3.org/2001/sw/DataAccess/rf1/result2.xsd\">\\n <head>\\n  <variable name=\"pcd\"/>\\n  <variable name=\"ie\"/>\\n  <variable name=\"ccd\"/>\\n </head>\\n <results distinct=\"false\" ordered=\"true\">\\n  <result>\\n   <binding name=\"pcd\"><uri>https://synbiohub.org/public/igem/BBa_K1444010/1</uri></binding>\\n   <binding name=\"ie\"><uri>http://parts.igem.org/Part:BBa_K1444010</uri></binding>\\n   <binding name=\"ccd\"><uri>https://synbiohub.org/public/igem/BBa_K823003/1</uri></binding>\\n  </result>\\n  <result>\\n   <binding name=\"pcd\"><uri>https://synbiohub.org/public/igem/BBa_K1444010/1</uri></binding>\\n   <binding name=\"ie\"><uri>http://parts.igem.org/Part:BBa_K1444010</uri></binding>\\n   <binding name=\"ccd\"><uri>https://synbiohub.org/public/igem/BBa_R0052/1</uri></binding>\\n  </result>\\n  <result>\\n   <binding name=\"pcd\"><uri>https://synbiohub.org/public/igem/BBa_K1444010/1</uri></binding'\n"
     ]
    },
    {
     "data": {
      "text/plain": [
       "14392425"
      ]
     },
     "execution_count": 4,
     "metadata": {},
     "output_type": "execute_result"
    }
   ],
   "source": [
    "import requests\n",
    "import urllib.parse\n",
    "\n",
    "url = endpoint + urllib.parse.urlencode({'query': query})\n",
    "print(url)\n",
    "r = requests.get(url)\n",
    "\n",
    "print(r.status_code)\n",
    "print(r.encoding)\n",
    "print(r.headers['content-type'])\n",
    "print(r.content[0:1000])\n",
    "\n",
    "f = open('response.xml', 'w')\n",
    "f.write(r.content.decode('utf8'))"
   ]
  },
  {
   "cell_type": "code",
   "execution_count": 5,
   "metadata": {},
   "outputs": [],
   "source": [
    "f = open('response.xml', 'r')\n",
    "content = f.read()"
   ]
  },
  {
   "cell_type": "code",
   "execution_count": 6,
   "metadata": {},
   "outputs": [],
   "source": [
    "from xml.etree import ElementTree\n",
    "\n",
    "\n",
    "# extract usage data\n",
    "def create_usages(xml_content):\n",
    "    usages = {}\n",
    "    \n",
    "    ns = {'sparql_results': 'http://www.w3.org/2005/sparql-results#'}\n",
    "    \n",
    "    root = ElementTree.fromstring(xml_content)\n",
    "    results = root.find('sparql_results:results', ns)\n",
    "\n",
    "    for result in results.findall('sparql_results:result', ns):\n",
    "        bindings = result.findall('sparql_results:binding', ns)\n",
    "\n",
    "        for binding in bindings:\n",
    "            if binding.attrib['name'] == 'pcd':\n",
    "                pcd = binding.find('sparql_results:uri', ns).text\n",
    "\n",
    "        for binding in bindings:\n",
    "            if binding.attrib['name'] == 'ccd':\n",
    "                ccd = binding.find('sparql_results:uri', ns).text\n",
    "\n",
    "        if pcd not in usages:\n",
    "            usages[pcd] = []\n",
    "        usages[pcd].append(ccd)\n",
    "    \n",
    "    return usages\n",
    "\n",
    "\n",
    "usages = create_usages(content)"
   ]
  },
  {
   "cell_type": "code",
   "execution_count": 8,
   "metadata": {},
   "outputs": [
    {
     "name": "stdout",
     "output_type": "stream",
     "text": [
      "['https://synbiohub.org/public/igem/BBa_K823003/1', 'https://synbiohub.org/public/igem/BBa_R0052/1', 'https://synbiohub.org/public/igem/BBa_K090505/1']\n"
     ]
    }
   ],
   "source": [
    "# usage data sanity check\n",
    "print(usages['https://synbiohub.org/public/igem/BBa_K1444010/1'])"
   ]
  },
  {
   "cell_type": "code",
   "execution_count": null,
   "metadata": {},
   "outputs": [],
   "source": []
  },
  {
   "cell_type": "code",
   "execution_count": 2,
   "metadata": {},
   "outputs": [],
   "source": [
    "# run pagerank"
   ]
  },
  {
   "cell_type": "code",
   "execution_count": null,
   "metadata": {},
   "outputs": [],
   "source": []
  }
 ],
 "metadata": {
  "kernelspec": {
   "display_name": "Python 3",
   "language": "python",
   "name": "python3"
  },
  "language_info": {
   "codemirror_mode": {
    "name": "ipython",
    "version": 3
   },
   "file_extension": ".py",
   "mimetype": "text/x-python",
   "name": "python",
   "nbconvert_exporter": "python",
   "pygments_lexer": "ipython3",
   "version": "3.4.3"
  }
 },
 "nbformat": 4,
 "nbformat_minor": 2
}
