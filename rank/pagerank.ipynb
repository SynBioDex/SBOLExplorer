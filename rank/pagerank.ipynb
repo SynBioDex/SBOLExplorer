{
 "cells": [
  {
   "cell_type": "code",
   "execution_count": 5,
   "metadata": {},
   "outputs": [],
   "source": [
    "# fetch usage data\n",
    "import requests\n",
    "import urllib.parse\n",
    "\n",
    "\n",
    "endpoint = 'https://synbiohub.org/sparql?'\n",
    "\n",
    "query_prefix = '''\n",
    "PREFIX rdf: <http://www.w3.org/1999/02/22-rdf-syntax-ns#>\n",
    "PREFIX dcterms: <http://purl.org/dc/terms/>\n",
    "PREFIX dc: <http://purl.org/dc/elements/1.1/>\n",
    "PREFIX sbh: <http://wiki.synbiohub.org/wiki/Terms/synbiohub#>\n",
    "PREFIX prov: <http://www.w3.org/ns/prov#>\n",
    "PREFIX sbol: <http://sbols.org/v2#>\n",
    "PREFIX xsd: <http://www.w3.org/2001/XMLSchema#>\n",
    "PREFIX rdfs: <http://www.w3.org/2000/01/rdf-schema#>\n",
    "PREFIX purl: <http://purl.obolibrary.org/obo/>\n",
    "'''\n",
    "\n",
    "usage_query = query_prefix + '''\n",
    "select distinct ?pcd ?ie ?ccd\n",
    "WHERE\n",
    "{\n",
    "?pcd a sbol:ComponentDefinition ;\n",
    "sbol:component ?sc;\n",
    "prov:wasDerivedFrom ?ie .\n",
    "\n",
    "?sc sbol:definition ?ccd\n",
    "}\n",
    "'''\n",
    "\n",
    "uri_query = query_prefix + '''\n",
    "select distinct ?cd\n",
    "WHERE\n",
    "{\n",
    "?cd a sbol:ComponentDefinition\n",
    "}\n",
    "'''\n",
    "\n",
    "\n",
    "def query_sparql(query, response_file):\n",
    "    url = endpoint + urllib.parse.urlencode({'query': query})\n",
    "    print(url)\n",
    "    r = requests.get(url)\n",
    "\n",
    "    print(r.status_code)\n",
    "    print(r.encoding)\n",
    "    print(r.headers['content-type'])\n",
    "    print(r.content[0:100])\n",
    "\n",
    "    f = open(response_file, 'w')\n",
    "    f.write(r.content.decode('utf8'))\n",
    "    f.close()"
   ]
  },
  {
   "cell_type": "code",
   "execution_count": 3,
   "metadata": {},
   "outputs": [
    {
     "name": "stdout",
     "output_type": "stream",
     "text": [
      "https://synbiohub.org/sparql?query=%0APREFIX+rdf%3A+%3Chttp%3A%2F%2Fwww.w3.org%2F1999%2F02%2F22-rdf-syntax-ns%23%3E%0APREFIX+dcterms%3A+%3Chttp%3A%2F%2Fpurl.org%2Fdc%2Fterms%2F%3E%0APREFIX+dc%3A+%3Chttp%3A%2F%2Fpurl.org%2Fdc%2Felements%2F1.1%2F%3E%0APREFIX+sbh%3A+%3Chttp%3A%2F%2Fwiki.synbiohub.org%2Fwiki%2FTerms%2Fsynbiohub%23%3E%0APREFIX+prov%3A+%3Chttp%3A%2F%2Fwww.w3.org%2Fns%2Fprov%23%3E%0APREFIX+sbol%3A+%3Chttp%3A%2F%2Fsbols.org%2Fv2%23%3E%0APREFIX+xsd%3A+%3Chttp%3A%2F%2Fwww.w3.org%2F2001%2FXMLSchema%23%3E%0APREFIX+rdfs%3A+%3Chttp%3A%2F%2Fwww.w3.org%2F2000%2F01%2Frdf-schema%23%3E%0APREFIX+purl%3A+%3Chttp%3A%2F%2Fpurl.obolibrary.org%2Fobo%2F%3E%0A%0Aselect+distinct+%3Fpcd+%3Fie+%3Fccd%0AWHERE%0A%7B%0A%3Fpcd+a+sbol%3AComponentDefinition+%3B%0Asbol%3Acomponent+%3Fsc%3B%0Aprov%3AwasDerivedFrom+%3Fie+.%0A%0A%3Fsc+sbol%3Adefinition+%3Fccd%0A%7D%0A\n",
      "200\n",
      "utf-8\n",
      "application/sparql-results+xml; charset=utf-8\n",
      "b'<sparql xmlns=\"http://www.w3.org/2005/sparql-results#\" xmlns:xsi=\"http://www.w3.org/2001/XMLSchema-i'\n"
     ]
    }
   ],
   "source": [
    "query_sparql(usage_query, 'usage_response.xml')"
   ]
  },
  {
   "cell_type": "code",
   "execution_count": 4,
   "metadata": {},
   "outputs": [
    {
     "name": "stdout",
     "output_type": "stream",
     "text": [
      "https://synbiohub.org/sparql?query=%0APREFIX+rdf%3A+%3Chttp%3A%2F%2Fwww.w3.org%2F1999%2F02%2F22-rdf-syntax-ns%23%3E%0APREFIX+dcterms%3A+%3Chttp%3A%2F%2Fpurl.org%2Fdc%2Fterms%2F%3E%0APREFIX+dc%3A+%3Chttp%3A%2F%2Fpurl.org%2Fdc%2Felements%2F1.1%2F%3E%0APREFIX+sbh%3A+%3Chttp%3A%2F%2Fwiki.synbiohub.org%2Fwiki%2FTerms%2Fsynbiohub%23%3E%0APREFIX+prov%3A+%3Chttp%3A%2F%2Fwww.w3.org%2Fns%2Fprov%23%3E%0APREFIX+sbol%3A+%3Chttp%3A%2F%2Fsbols.org%2Fv2%23%3E%0APREFIX+xsd%3A+%3Chttp%3A%2F%2Fwww.w3.org%2F2001%2FXMLSchema%23%3E%0APREFIX+rdfs%3A+%3Chttp%3A%2F%2Fwww.w3.org%2F2000%2F01%2Frdf-schema%23%3E%0APREFIX+purl%3A+%3Chttp%3A%2F%2Fpurl.obolibrary.org%2Fobo%2F%3E%0A%0Aselect+distinct+%3Fcd%0AWHERE%0A%7B%0A%3Fcd+a+sbol%3AComponentDefinition%0A%7D%0A\n",
      "200\n",
      "utf-8\n",
      "application/sparql-results+xml; charset=utf-8\n",
      "b'<sparql xmlns=\"http://www.w3.org/2005/sparql-results#\" xmlns:xsi=\"http://www.w3.org/2001/XMLSchema-i'\n"
     ]
    }
   ],
   "source": [
    "query_sparql(uri_query, 'uri_response.xml')"
   ]
  },
  {
   "cell_type": "code",
   "execution_count": 2,
   "metadata": {},
   "outputs": [],
   "source": [
    "f = open('usage_response.xml', 'r')\n",
    "usage_response = f.read()\n",
    "f.close()\n",
    "\n",
    "f = open('uri_response.xml', 'r')\n",
    "uri_response = f.read()\n",
    "f.close()"
   ]
  },
  {
   "cell_type": "code",
   "execution_count": 3,
   "metadata": {},
   "outputs": [],
   "source": [
    "from xml.etree import ElementTree\n",
    "\n",
    "\n",
    "# add uris as keys to usages\n",
    "def populate_usage_uris(uri_response):\n",
    "    usages = {}\n",
    "    \n",
    "    ns = {'sparql_results': 'http://www.w3.org/2005/sparql-results#'}\n",
    "    \n",
    "    root = ElementTree.fromstring(uri_response)\n",
    "    results = root.find('sparql_results:results', ns)\n",
    "\n",
    "    for result in results.findall('sparql_results:result', ns):\n",
    "        bindings = result.findall('sparql_results:binding', ns)\n",
    "\n",
    "        for binding in bindings:\n",
    "            if binding.attrib['name'] == 'cd':\n",
    "                cd = binding.find('sparql_results:uri', ns).text\n",
    "\n",
    "        usages[cd] = []\n",
    "    \n",
    "    return usages\n",
    "\n",
    "\n",
    "# add actual usage edges\n",
    "def add_usages(usage_response, usages):\n",
    "    ns = {'sparql_results': 'http://www.w3.org/2005/sparql-results#'}\n",
    "    \n",
    "    root = ElementTree.fromstring(usage_response)\n",
    "    results = root.find('sparql_results:results', ns)\n",
    "\n",
    "    for result in results.findall('sparql_results:result', ns):\n",
    "        bindings = result.findall('sparql_results:binding', ns)\n",
    "\n",
    "        for binding in bindings:\n",
    "            if binding.attrib['name'] == 'pcd':\n",
    "                pcd = binding.find('sparql_results:uri', ns).text\n",
    "\n",
    "        for binding in bindings:\n",
    "            if binding.attrib['name'] == 'ccd':\n",
    "                ccd = binding.find('sparql_results:uri', ns).text\n",
    "\n",
    "        usages[pcd].append(ccd)\n",
    "    \n",
    "\n",
    "usages = populate_usage_uris(uri_response)\n",
    "add_usages(usage_response, usages)"
   ]
  },
  {
   "cell_type": "code",
   "execution_count": 4,
   "metadata": {},
   "outputs": [
    {
     "name": "stdout",
     "output_type": "stream",
     "text": [
      "['https://synbiohub.org/public/igem/BBa_K823003/1', 'https://synbiohub.org/public/igem/BBa_R0052/1', 'https://synbiohub.org/public/igem/BBa_K090505/1']\n"
     ]
    }
   ],
   "source": [
    "# usage data sanity check\n",
    "print(usages['https://synbiohub.org/public/igem/BBa_K1444010/1'])"
   ]
  },
  {
   "cell_type": "code",
   "execution_count": 5,
   "metadata": {},
   "outputs": [],
   "source": [
    "class graph:\n",
    "    # create uri to index mapping\n",
    "    def init_mapping(self, usages):\n",
    "        uris = set()\n",
    "        for parent in usages:\n",
    "            uris.add(parent)\n",
    "            for child in usages[parent]:\n",
    "                uris.add(child)\n",
    "\n",
    "        self.index2uri = list(uris)\n",
    "        self.uri2index = {}\n",
    "\n",
    "        for i in range(len(self.index2uri)):\n",
    "            uri = self.index2uri[i]\n",
    "            self.uri2index[uri] = i\n",
    "\n",
    "        # assert mappings are correct\n",
    "        for i in range(len(self.index2uri)):\n",
    "            uri = self.index2uri[i]\n",
    "            index = self.uri2index[uri]\n",
    "            assert(index == i)\n",
    "    \n",
    "    \n",
    "    def init_in_links(self, usages):\n",
    "        for j in range(self.size):\n",
    "            self.in_links[j] = []\n",
    "        \n",
    "        for parent in usages:\n",
    "            for child in usages[parent]:\n",
    "                parent_idx = self.uri2index[parent]\n",
    "                child_idx = self.uri2index[child]\n",
    "                self.in_links[child_idx].append(parent_idx)\n",
    "            \n",
    "            \n",
    "    def init_number_out_links(self, usages):\n",
    "        for j in range(self.size):\n",
    "            self.number_out_links[j] = 0\n",
    "            \n",
    "        for parent in usages:\n",
    "            parent_idx = self.uri2index[parent]\n",
    "            number_children = len(usages[parent])\n",
    "            self.number_out_links[parent_idx] = number_children\n",
    "            \n",
    "        \n",
    "    def init_dangling_pages(self, usages):\n",
    "        for parent in usages:\n",
    "            number_children = len(usages[parent])\n",
    "            if number_children == 0:\n",
    "                self.dangling_pages.add(self.uri2index[parent])\n",
    "                \n",
    "                \n",
    "    def __init__(self, usages):\n",
    "        self.index2uri = []\n",
    "        self.uri2index = {}\n",
    "        self.init_mapping(usages)\n",
    "        \n",
    "        self.size = len(self.index2uri)\n",
    "        \n",
    "        self.in_links = {}\n",
    "        self.init_in_links(usages)\n",
    "        \n",
    "        self.number_out_links = {}\n",
    "        self.init_number_out_links(usages)\n",
    "        \n",
    "        self.dangling_pages = set()\n",
    "        self.init_dangling_pages(usages)"
   ]
  },
  {
   "cell_type": "code",
   "execution_count": 7,
   "metadata": {},
   "outputs": [],
   "source": [
    "import numpy as np\n",
    "\n",
    "def pagerank(g, s=0.85, tolerance=0.000001):\n",
    "    n = g.size\n",
    "    p = np.matrix(np.ones((n, 1))) / n\n",
    "    \n",
    "    iteration = 1\n",
    "    delta = 2\n",
    "    \n",
    "    dangling_contrib = sum([p[j] for j in g.dangling_pages]) / n\n",
    "    teleportation_contrib = 1 / n\n",
    "    \n",
    "    while delta > tolerance:\n",
    "        print('iteration: ' + str(iteration))\n",
    "        \n",
    "        v = np.matrix(np.zeros((n, 1)))\n",
    "        for j in range(n):\n",
    "            link_contrib = sum([p[k] / g.number_out_links[k] for k in g.in_links[j]])\n",
    "            v[j] = s * link_contrib + s * dangling_contrib + (1 - s) * teleportation_contrib\n",
    "        new_p = v / np.sum(v)\n",
    "            \n",
    "        delta = np.sum(np.abs(p - new_p))\n",
    "        print('L1 norm delta: ' + str(delta))\n",
    "        \n",
    "        p = new_p\n",
    "        iteration += 1\n",
    "        \n",
    "    return p"
   ]
  },
  {
   "cell_type": "code",
   "execution_count": 8,
   "metadata": {},
   "outputs": [
    {
     "name": "stdout",
     "output_type": "stream",
     "text": [
      "iteration: 1\n",
      "L1 norm delta: 0.39187094484851914\n",
      "iteration: 2\n",
      "L1 norm delta: 0.049334364751470745\n",
      "iteration: 3\n",
      "L1 norm delta: 0.005362513099212397\n",
      "iteration: 4\n",
      "L1 norm delta: 0.0008998019382141509\n",
      "iteration: 5\n",
      "L1 norm delta: 0.00016325973897196832\n",
      "iteration: 6\n",
      "L1 norm delta: 2.7765868353399483e-05\n",
      "iteration: 7\n",
      "L1 norm delta: 5.09364037618448e-06\n",
      "iteration: 8\n",
      "L1 norm delta: 6.639484082299381e-07\n"
     ]
    }
   ],
   "source": [
    "g = graph(usages)\n",
    "pr = pagerank(g)\n",
    "ranks = np.squeeze(np.asarray(pr))"
   ]
  },
  {
   "cell_type": "code",
   "execution_count": 11,
   "metadata": {},
   "outputs": [
    {
     "name": "stdout",
     "output_type": "stream",
     "text": [
      "parts with popularity higher than 0.002\n",
      "rank: 0.0023747654575426926 uri: https://synbiohub.org/public/igem/BBa_R0010/1\n",
      "rank: 0.011615698929273414 uri: https://synbiohub.org/public/igem/BBa_B0010/1\n",
      "rank: 0.016072607167464233 uri: https://synbiohub.org/public/igem/BBa_B0034/1\n",
      "rank: 0.003267466067243685 uri: https://synbiohub.org/public/igem/BBa_E0040/1\n",
      "rank: 0.006962402178576353 uri: https://synbiohub.org/public/igem/BBa_B0015/1\n",
      "rank: 0.011986465634420462 uri: https://synbiohub.org/public/igem/BBa_B0012/1\n",
      "rank: 0.003001010989319697 uri: https://synbiohub.org/public/igem/BBa_B0032/1\n",
      "rank: 0.0034746125944101953 uri: https://synbiohub.org/public/igem/BBa_R0040/1\n",
      "rank: 0.002071783211631047 uri: https://synbiohub.org/public/igem/BBa_R0011/1\n",
      "rank: 0.003122024953371472 uri: https://synbiohub.org/public/igem/BBa_B0030/1\n"
     ]
    },
    {
     "data": {
      "image/png": "[encoded data removed]",
      "text/plain": [
       "<Figure size 432x288 with 1 Axes>"
      ]
     },
     "metadata": {},
     "output_type": "display_data"
    }
   ],
   "source": [
    "from matplotlib import pyplot as plt\n",
    "\n",
    "\n",
    "# print most popular parts\n",
    "popularity_threshold = 0.002\n",
    "print('parts with popularity higher than ' + str(popularity_threshold))\n",
    "for i in range(len(ranks)):\n",
    "    if ranks[i] > popularity_threshold:\n",
    "        print('rank: ' + str(ranks[i]) + ' uri: ' + g.index2uri[i])\n",
    "\n",
    "        \n",
    "# plot histogram\n",
    "sorted_ranks = sorted(ranks)\n",
    "#print(sorted_ranks)\n",
    "outliers = 0\n",
    "_ = plt.hist(sorted_ranks[0:len(sorted_ranks) - outliers], log=True, bins=100)"
   ]
  },
  {
   "cell_type": "code",
   "execution_count": null,
   "metadata": {},
   "outputs": [],
   "source": []
  }
 ],
 "metadata": {
  "kernelspec": {
   "display_name": "Python 3",
   "language": "python",
   "name": "python3"
  },
  "language_info": {
   "codemirror_mode": {
    "name": "ipython",
    "version": 3
   },
   "file_extension": ".py",
   "mimetype": "text/x-python",
   "name": "python",
   "nbconvert_exporter": "python",
   "pygments_lexer": "ipython3",
   "version": "3.5.2"
  }
 },
 "nbformat": 4,
 "nbformat_minor": 2
}
