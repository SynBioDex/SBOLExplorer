{
 "cells": [
  {
   "cell_type": "code",
   "execution_count": 1,
   "metadata": {},
   "outputs": [],
   "source": [
    "endpoint = 'https://synbiohub.org/sparql?'\n",
    "\n",
    "query = '''\n",
    "PREFIX rdf: <http://www.w3.org/1999/02/22-rdf-syntax-ns#>\n",
    "PREFIX dcterms: <http://purl.org/dc/terms/>\n",
    "PREFIX dc: <http://purl.org/dc/elements/1.1/>\n",
    "PREFIX sbh: <http://wiki.synbiohub.org/wiki/Terms/synbiohub#>\n",
    "PREFIX prov: <http://www.w3.org/ns/prov#>\n",
    "PREFIX sbol: <http://sbols.org/v2#>\n",
    "PREFIX xsd: <http://www.w3.org/2001/XMLSchema#>\n",
    "PREFIX rdfs: <http://www.w3.org/2000/01/rdf-schema#>\n",
    "PREFIX purl: <http://purl.obolibrary.org/obo/>\n",
    "\n",
    "select ?s ?o where {\n",
    "?s a sbol:ComponentDefinition .\n",
    "?s sbol:sequence ?seq .\n",
    "?seq a sbol:Sequence .\n",
    "?seq sbol:elements ?o .\n",
    "}\n",
    "'''"
   ]
  },
  {
   "cell_type": "code",
   "execution_count": 2,
   "metadata": {},
   "outputs": [
    {
     "name": "stdout",
     "output_type": "stream",
     "text": [
      "https://synbiohub.org/sparql?query=%0APREFIX+rdf%3A+%3Chttp%3A%2F%2Fwww.w3.org%2F1999%2F02%2F22-rdf-syntax-ns%23%3E%0APREFIX+dcterms%3A+%3Chttp%3A%2F%2Fpurl.org%2Fdc%2Fterms%2F%3E%0APREFIX+dc%3A+%3Chttp%3A%2F%2Fpurl.org%2Fdc%2Felements%2F1.1%2F%3E%0APREFIX+sbh%3A+%3Chttp%3A%2F%2Fwiki.synbiohub.org%2Fwiki%2FTerms%2Fsynbiohub%23%3E%0APREFIX+prov%3A+%3Chttp%3A%2F%2Fwww.w3.org%2Fns%2Fprov%23%3E%0APREFIX+sbol%3A+%3Chttp%3A%2F%2Fsbols.org%2Fv2%23%3E%0APREFIX+xsd%3A+%3Chttp%3A%2F%2Fwww.w3.org%2F2001%2FXMLSchema%23%3E%0APREFIX+rdfs%3A+%3Chttp%3A%2F%2Fwww.w3.org%2F2000%2F01%2Frdf-schema%23%3E%0APREFIX+purl%3A+%3Chttp%3A%2F%2Fpurl.obolibrary.org%2Fobo%2F%3E%0A%0Aselect+%3Fs+%3Fo+where+%7B%0A%3Fs+a+sbol%3AComponentDefinition+.%0A%3Fs+sbol%3Asequence+%3Fseq+.%0A%3Fseq+a+sbol%3ASequence+.%0A%3Fseq+sbol%3Aelements+%3Fo+.%0A%7D%0A\n",
      "200\n",
      "utf-8\n",
      "application/sparql-results+xml; charset=utf-8\n",
      "b'<sparql xmlns=\"http://www.w3.org/2005/sparql-results#\" xmlns:xsi=\"http://www.w3.org/2001/XMLSchema-instance\" xsi:schemaLocation=\"http://www.w3.org/2001/sw/DataAccess/rf1/result2.xsd\">\\n <head>\\n  <variable name=\"s\"/>\\n  <variable name=\"o\"/>\\n </head>\\n <results distinct=\"false\" ordered=\"true\">\\n  <result>\\n   <binding name=\"s\"><uri>https://synbiohub.org/public/igem/BBa_K1444010/1</uri></binding>\\n   <binding name=\"o\"><literal>ggagttctgagaattggtatgccttataagtccaattaacagttgaaaacctgcataggagagctatgcgggttttttattttacataatgatacataatttaccgaaacttgcggaacataattgaggaatcatagaattttgtcaaaataattttattgacaacgtcttattaacgttgatataatttaaattttatttgacaaaaatgggctcgtgttgtacaataaatgtagttactagagttgacaaacaagatacattgtatgaaaatacaagaaagtttgttgatactagagaaaggaggtgt</literal></binding>\\n  </result>\\n  <result>\\n   <binding name=\"s\"><uri>https://synbiohub.org/public/igem/BBa_K1444011/1</uri></binding>\\n   <binding name=\"o\"><literal>ggagttctgagaattggtatgccttataagtccaattaacagttgaaaacctgcataggagagctatgcgggttttttattttacataatgatacataattta'\n"
     ]
    },
    {
     "data": {
      "text/plain": [
       "65385932"
      ]
     },
     "execution_count": 2,
     "metadata": {},
     "output_type": "execute_result"
    }
   ],
   "source": [
    "import requests\n",
    "import urllib.parse\n",
    "\n",
    "url = endpoint + urllib.parse.urlencode({'query': query})\n",
    "print(url)\n",
    "r = requests.get(url)\n",
    "\n",
    "print(r.status_code)\n",
    "print(r.encoding)\n",
    "print(r.headers['content-type'])\n",
    "print(r.content[0:1000])\n",
    "\n",
    "f = open('response.xml', 'w')\n",
    "f.write(r.content.decode('utf8'))"
   ]
  },
  {
   "cell_type": "code",
   "execution_count": 4,
   "metadata": {},
   "outputs": [],
   "source": [
    "f = open('response.xml', 'r')\n",
    "content = f.read()"
   ]
  },
  {
   "cell_type": "code",
   "execution_count": 5,
   "metadata": {},
   "outputs": [],
   "source": [
    "from xml.etree import ElementTree\n",
    "\n",
    "\n",
    "def create_sequences(xml_content):\n",
    "    sequences = {}\n",
    "    \n",
    "    ns = {'sparql_results': 'http://www.w3.org/2005/sparql-results#'}\n",
    "    \n",
    "    root = ElementTree.fromstring(xml_content)\n",
    "    results = root.find('sparql_results:results', ns)\n",
    "\n",
    "    for result in results.findall('sparql_results:result', ns):\n",
    "        bindings = result.findall('sparql_results:binding', ns)\n",
    "\n",
    "        for binding in bindings:\n",
    "            if binding.attrib['name'] == 's':\n",
    "                uri = binding.find('sparql_results:uri', ns).text\n",
    "\n",
    "        for binding in bindings:\n",
    "            if binding.attrib['name'] == 'o':\n",
    "                sequence = binding.find('sparql_results:literal', ns).text\n",
    "\n",
    "        sequences[uri] = sequence\n",
    "    \n",
    "    return sequences\n",
    "\n",
    "\n",
    "sequences = create_sequences(content)"
   ]
  },
  {
   "cell_type": "code",
   "execution_count": 6,
   "metadata": {},
   "outputs": [],
   "source": [
    "def write_fasta(sequences):\n",
    "    f = open('synbiohub.fsa', 'w')\n",
    "    \n",
    "    for uri in sequences.keys():\n",
    "        f.write('>%s\\n' % uri)\n",
    "        f.write('%s\\n' % sequences[uri])\n",
    "    \n",
    "    f.close()\n",
    "    \n",
    "    \n",
    "write_fasta(sequences)"
   ]
  },
  {
   "cell_type": "code",
   "execution_count": 16,
   "metadata": {},
   "outputs": [
    {
     "data": {
      "image/png": "[encoded data removed]",
      "text/plain": [
       "<matplotlib.figure.Figure at 0x7f839b0cbba8>"
      ]
     },
     "metadata": {},
     "output_type": "display_data"
    },
    {
     "data": {
      "image/png": "[encoded data removed]",
      "text/plain": [
       "<matplotlib.figure.Figure at 0x7f839bb0e198>"
      ]
     },
     "metadata": {},
     "output_type": "display_data"
    }
   ],
   "source": [
    "import matplotlib.pyplot as plt\n",
    "\n",
    "def plot_sequence_lengths(sequences, logy=False, bins=500, cutoff=None):\n",
    "    base_lengths = []\n",
    "    \n",
    "    for uri in sequences.keys():\n",
    "        length = len(sequences[uri])\n",
    "        \n",
    "        if cutoff is None or length < cutoff:\n",
    "            base_lengths.append(length)\n",
    "    \n",
    "    plt.hist(base_lengths, bins)\n",
    "    if logy:\n",
    "        plt.yscale('log', nonposy='clip')\n",
    "        \n",
    "    _ = plt.title('Histogram of sequence base pair length')\n",
    "    _ = plt.xlabel('Sequence base pair length')\n",
    "    _ = plt.ylabel('Frequency')\n",
    "    plt.show()\n",
    "\n",
    "plot_sequence_lengths(sequences, logy=True, bins=500)\n",
    "plot_sequence_lengths(sequences, logy=False, bins=500, cutoff=2000)"
   ]
  },
  {
   "cell_type": "code",
   "execution_count": 9,
   "metadata": {},
   "outputs": [
    {
     "data": {
      "image/png": "[encoded data removed]",
      "text/plain": [
       "<matplotlib.figure.Figure at 0x7fe72b414080>"
      ]
     },
     "metadata": {},
     "output_type": "display_data"
    },
    {
     "data": {
      "image/png": "[encoded data removed]",
      "text/plain": [
       "<matplotlib.figure.Figure at 0x7fe72b152a20>"
      ]
     },
     "metadata": {},
     "output_type": "display_data"
    }
   ],
   "source": [
    "import matplotlib.pyplot as plt\n",
    "\n",
    "\n",
    "def get_base_frequencies(sequences):\n",
    "    base_frequencies = {}\n",
    "    \n",
    "    for uri, sequence in sequences.items():\n",
    "        for base in sequence:\n",
    "            if base not in base_frequencies:\n",
    "                base_frequencies[base] = 0\n",
    "            base_frequencies[base] += 1\n",
    "    \n",
    "    return base_frequencies\n",
    "\n",
    "\n",
    "def plot_base_frequencies(base_frequencies):\n",
    "    plt.bar(range(len(base_frequencies)), list(base_frequencies.values()), align='center')\n",
    "    plt.xticks(range(len(base_frequencies)), list(base_frequencies.keys()))\n",
    "    plt.show()\n",
    "\n",
    "    \n",
    "def normalize_sequences(sequences, approved_bases):\n",
    "    for uri in sequences.keys():\n",
    "        lowered = sequences[uri].lower()\n",
    "        stripped = ''.join(c for c in lowered if c in approved_bases)\n",
    "        sequences[uri] = stripped\n",
    "        \n",
    "    \n",
    "base_frequencies = get_base_frequencies(sequences)\n",
    "plot_base_frequencies(base_frequencies)\n",
    "\n",
    "normalize_sequences(sequences, {'g', 'a', 't', 'c'})\n",
    "base_frequencies = get_base_frequencies(sequences)\n",
    "plot_base_frequencies(base_frequencies)"
   ]
  },
  {
   "cell_type": "code",
   "execution_count": null,
   "metadata": {},
   "outputs": [],
   "source": []
  }
 ],
 "metadata": {
  "kernelspec": {
   "display_name": "Python 3",
   "language": "python",
   "name": "python3"
  },
  "language_info": {
   "codemirror_mode": {
    "name": "ipython",
    "version": 3
   },
   "file_extension": ".py",
   "mimetype": "text/x-python",
   "name": "python",
   "nbconvert_exporter": "python",
   "pygments_lexer": "ipython3",
   "version": "3.5.2"
  }
 },
 "nbformat": 4,
 "nbformat_minor": 2
}
