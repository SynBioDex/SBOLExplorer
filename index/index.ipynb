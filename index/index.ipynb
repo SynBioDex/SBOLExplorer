{
 "cells": [
  {
   "cell_type": "code",
   "execution_count": 14,
   "metadata": {},
   "outputs": [
    {
     "name": "stdout",
     "output_type": "stream",
     "text": [
      "http://localhost:7777/sparql?query=%0APREFIX+sbol2%3A+%3Chttp%3A%2F%2Fsbols.org%2Fv2%23%3E%0APREFIX+dcterms%3A+%3Chttp%3A%2F%2Fpurl.org%2Fdc%2Fterms%2F%3E%0APREFIX+ncbi%3A+%3Chttp%3A%2F%2Fwww.ncbi.nlm.nih.gov%23%3E%0APREFIX+synbiohub%3A+%3Chttp%3A%2F%2Fsynbiohub.org%23%3E%0APREFIX+sbh%3A+%3Chttp%3A%2F%2Fwiki.synbiohub.org%2Fwiki%2FTerms%2Fsynbiohub%23%3E%0APREFIX+igem%3A+%3Chttp%3A%2F%2Fwiki.synbiohub.org%2Fwiki%2FTerms%2Figem%23%3E%0APREFIX+xsd%3A+%3Chttp%3A%2F%2Fwww.w3.org%2F2001%2FXMLSchema%23%3E%0A%0ASELECT+DISTINCT%0A++++%3Fsubject%0A++++%3FdisplayId%0A++++%3Fversion%0A++++%3Fname%0A++++%3Fdescription%0A++++%3Ftype%0AWHERE+%7B%0A++++%3Fsubject+a+sbol2%3AComponentDefinition+.%0A++++%3Fsubject+a+%3Ftype+.%0A++++%3Fsubject+sbh%3AtopLevel+%3Fsubject%0A++++OPTIONAL+%7B+%3Fsubject+sbol2%3AdisplayId+%3FdisplayId+.+%7D%0A++++OPTIONAL+%7B+%3Fsubject+sbol2%3Aversion+%3Fversion+.+%7D%0A++++OPTIONAL+%7B+%3Fsubject+dcterms%3Atitle+%3Fname+.+%7D%0A++++OPTIONAL+%7B+%3Fsubject+dcterms%3Adescription+%3Fdescription+.+%7D%0A%7D+%0A\n",
      "200\n",
      "utf-8\n",
      "application/sparql-results+xml; charset=utf-8\n",
      "b'<sparql xmlns=\"http://www.w3.org/2005/sparql-results#\" xmlns:xsi=\"http://www.w3.org/2001/XMLSchema-instance\" xsi:schemaLocation=\"http://www.w3.org/2001/sw/DataAccess/rf1/result2.xsd\">\\n <head>\\n  <variable name=\"subject\"/>\\n  <variable name=\"displayId\"/>\\n  <variable name=\"version\"/>\\n  <variable name=\"name\"/>\\n  <variable name=\"description\"/>\\n  <variable name=\"type\"/>\\n </head>\\n <results distinct=\"false\" ordered=\"true\">\\n  <result>\\n   <binding name=\"subject\"><uri>https://synbiohub.org/public/igem/BBa_B0034/1</uri></binding>\\n   <binding name=\"displayId\"><literal>BBa_B0034</literal></binding>\\n   <binding name=\"version\"><literal>1</literal></binding>\\n   <binding name=\"name\"><literal>BBa_B0034</literal></binding>\\n   <binding name=\"description\"><literal>RBS (Elowitz 1999) -- defines RBS efficiency</literal></binding>\\n   <binding name=\"type\"><uri>http://sbols.org/v2#ComponentDefinition</uri></binding>\\n  </result>\\n  <result>\\n   <binding name=\"subject\"><uri>https://synbiohub.org/public/igem/BBa_I7610'\n"
     ]
    },
    {
     "data": {
      "text/plain": [
       "18794885"
      ]
     },
     "execution_count": 14,
     "metadata": {},
     "output_type": "execute_result"
    }
   ],
   "source": [
    "import requests\n",
    "import urllib.parse\n",
    "\n",
    "\n",
    "endpoint = 'http://localhost:7777/sparql?'\n",
    "\n",
    "parts_query = '''\n",
    "PREFIX sbol2: <http://sbols.org/v2#>\n",
    "PREFIX dcterms: <http://purl.org/dc/terms/>\n",
    "PREFIX ncbi: <http://www.ncbi.nlm.nih.gov#>\n",
    "PREFIX synbiohub: <http://synbiohub.org#>\n",
    "PREFIX sbh: <http://wiki.synbiohub.org/wiki/Terms/synbiohub#>\n",
    "PREFIX igem: <http://wiki.synbiohub.org/wiki/Terms/igem#>\n",
    "PREFIX xsd: <http://www.w3.org/2001/XMLSchema#>\n",
    "\n",
    "SELECT DISTINCT\n",
    "    ?subject\n",
    "    ?displayId\n",
    "    ?version\n",
    "    ?name\n",
    "    ?description\n",
    "    ?type\n",
    "WHERE {\n",
    "    ?subject a sbol2:ComponentDefinition .\n",
    "    ?subject a ?type .\n",
    "    ?subject sbh:topLevel ?subject\n",
    "    OPTIONAL { ?subject sbol2:displayId ?displayId . }\n",
    "    OPTIONAL { ?subject sbol2:version ?version . }\n",
    "    OPTIONAL { ?subject dcterms:title ?name . }\n",
    "    OPTIONAL { ?subject dcterms:description ?description . }\n",
    "} \n",
    "'''\n",
    "\n",
    "url = endpoint + urllib.parse.urlencode({'query': parts_query})\n",
    "print(url)\n",
    "r = requests.get(url)\n",
    "\n",
    "print(r.status_code)\n",
    "print(r.encoding)\n",
    "print(r.headers['content-type'])\n",
    "print(r.content[0:1000])\n",
    "\n",
    "f = open('parts_response.xml', 'w')\n",
    "f.write(r.content.decode('utf8'))"
   ]
  },
  {
   "cell_type": "code",
   "execution_count": 15,
   "metadata": {},
   "outputs": [],
   "source": [
    "f = open('parts_response.xml', 'r')\n",
    "parts_response = f.read()"
   ]
  },
  {
   "cell_type": "code",
   "execution_count": 16,
   "metadata": {},
   "outputs": [
    {
     "name": "stdout",
     "output_type": "stream",
     "text": [
      "number of parts: 38371\n"
     ]
    }
   ],
   "source": [
    "from xml.etree import ElementTree\n",
    "\n",
    "\n",
    "def create_parts(xml_content):\n",
    "    parts = []\n",
    "    \n",
    "    ns = {'sparql_results': 'http://www.w3.org/2005/sparql-results#'}\n",
    "    \n",
    "    root = ElementTree.fromstring(xml_content)\n",
    "    results = root.find('sparql_results:results', ns)\n",
    "\n",
    "    for result in results.findall('sparql_results:result', ns):\n",
    "        bindings = result.findall('sparql_results:binding', ns)\n",
    "\n",
    "        subject = 'no subject'\n",
    "        for binding in bindings:\n",
    "            if binding.attrib['name'] == 'subject':\n",
    "                subject = binding.find('sparql_results:uri', ns).text\n",
    "\n",
    "        display_id = 'no displayId'\n",
    "        for binding in bindings:\n",
    "            if binding.attrib['name'] == 'displayId':\n",
    "                display_id = binding.find('sparql_results:literal', ns).text\n",
    "                \n",
    "        version = 'no version'\n",
    "        for binding in bindings:\n",
    "            if binding.attrib['name'] == 'version':\n",
    "                version = binding.find('sparql_results:literal', ns).text\n",
    "        \n",
    "        name = 'no name'\n",
    "        for binding in bindings:\n",
    "            if binding.attrib['name'] == 'name':\n",
    "                name = binding.find('sparql_results:literal', ns).text\n",
    "        \n",
    "        description = 'no description'\n",
    "        for binding in bindings:\n",
    "            if binding.attrib['name'] == 'description':\n",
    "                description = binding.find('sparql_results:literal', ns).text\n",
    "                \n",
    "        _type = 'no type'\n",
    "        for binding in bindings:\n",
    "            if binding.attrib['name'] == 'type':\n",
    "                _type = binding.find('sparql_results:uri', ns).text\n",
    "\n",
    "        part = {\n",
    "            'subject': subject,\n",
    "            'displayId': display_id,\n",
    "            'version': version,\n",
    "            'name': name,\n",
    "            'description': description,\n",
    "            'type': _type\n",
    "        }\n",
    "        parts.append(part)\n",
    "    \n",
    "    return parts\n",
    "\n",
    "parts = create_parts(parts_response)\n",
    "print('number of parts: ' + str(len(parts))) # TODO only fetching first 50000 parts"
   ]
  },
  {
   "cell_type": "code",
   "execution_count": 17,
   "metadata": {},
   "outputs": [
    {
     "name": "stderr",
     "output_type": "stream",
     "text": [
      "PUT http://localhost:9200/part [status:400 request:0.003s]\n"
     ]
    },
    {
     "name": "stdout",
     "output_type": "stream",
     "text": [
      "TransportError(400, 'resource_already_exists_exception', 'index [part/n_5J-cQORzmqrJ8wZTmNWw] already exists')\n",
      "deleting and recreating\n",
      "deleted\n",
      "recreated\n",
      "indexing\n",
      "no errors!\n"
     ]
    }
   ],
   "source": [
    "# ssh tunnel from local jupyter notebook to server running elasticsearch\n",
    "# ssh -N -L 9200:localhost:9200 MichaelZhang@tang.ece.utah.edu\n",
    "\n",
    "from elasticsearch import Elasticsearch\n",
    "from elasticsearch import ElasticsearchException\n",
    "from elasticsearch import helpers\n",
    "\n",
    "es = Elasticsearch(['http://localhost:9200/'], verify_certs=True)\n",
    "\n",
    "if not es.ping():\n",
    "    raise ValueError('Connection failed')\n",
    "    \n",
    "index_name = 'part'\n",
    "try:\n",
    "    es.indices.create(index=index_name)\n",
    "except ElasticsearchException as error:\n",
    "    print(error)\n",
    "    print('deleting and recreating')\n",
    "    es.indices.delete(index=index_name)\n",
    "    print('deleted')\n",
    "    es.indices.create(index=index_name)\n",
    "    print('recreated')\n",
    "\n",
    "\n",
    "actions = []\n",
    "for i in range(len(parts)):\n",
    "    action = {\n",
    "        '_index': index_name,\n",
    "        '_type': 'part',\n",
    "        '_id': i,\n",
    "        '_source': parts[i]\n",
    "    }\n",
    "    \n",
    "    actions.append(action)\n",
    "\n",
    "print('indexing')\n",
    "stats = helpers.bulk(es, actions)\n",
    "if len(stats[1]) == 0:\n",
    "    print('no errors!')\n",
    "else:\n",
    "    print('error_messages: ' + '\\n'.join(stats[1]))"
   ]
  },
  {
   "cell_type": "code",
   "execution_count": 18,
   "metadata": {},
   "outputs": [
    {
     "name": "stdout",
     "output_type": "stream",
     "text": [
      "{'query': {'multi_match': {'query': 'test', 'fields': ['subject', 'displayId', 'version', 'name', 'description', 'type']}}}\n",
      "8.687418 https://synbiohub.org/public/igem/BBa_K314900/1\n",
      "7.8440104 https://synbiohub.org/public/igem/BBa_K1479015/1\n",
      "7.8090644 https://synbiohub.org/public/igem/BBa_K294210/1\n",
      "7.8090644 https://synbiohub.org/public/igem/BBa_K1479017/1\n",
      "6.788761 https://synbiohub.org/public/igem/BBa_K1611999/1\n",
      "6.1728296 https://synbiohub.org/public/igem/BBa_K121998/1\n",
      "6.1728296 https://synbiohub.org/public/igem/BBa_K194999/1\n",
      "6.1728296 https://synbiohub.org/public/igem/BBa_K188902/1\n",
      "6.1728296 https://synbiohub.org/public/igem/BBa_K1073036/1\n",
      "6.1728296 https://synbiohub.org/public/igem/BBa_K1442684/1\n"
     ]
    }
   ],
   "source": [
    "from elasticsearch_dsl import Search\n",
    "\n",
    "query = 'test'\n",
    "\n",
    "s = Search(using=es, index=index_name).query('multi_match', query=query, fields=['subject', 'displayId', 'version', 'name', 'description', 'type'])\n",
    "print(s.to_dict())\n",
    "response = s.execute()\n",
    "\n",
    "for hit in response:\n",
    "    print(hit.meta.score, hit.subject)"
   ]
  },
  {
   "cell_type": "code",
   "execution_count": null,
   "metadata": {},
   "outputs": [],
   "source": []
  },
  {
   "cell_type": "code",
   "execution_count": null,
   "metadata": {},
   "outputs": [],
   "source": []
  }
 ],
 "metadata": {
  "kernelspec": {
   "display_name": "Python 3",
   "language": "python",
   "name": "python3"
  },
  "language_info": {
   "codemirror_mode": {
    "name": "ipython",
    "version": 3
   },
   "file_extension": ".py",
   "mimetype": "text/x-python",
   "name": "python",
   "nbconvert_exporter": "python",
   "pygments_lexer": "ipython3",
   "version": "3.5.2"
  }
 },
 "nbformat": 4,
 "nbformat_minor": 2
}
